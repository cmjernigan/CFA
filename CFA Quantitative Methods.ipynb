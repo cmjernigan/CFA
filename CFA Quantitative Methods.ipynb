{
 "cells": [
  {
   "cell_type": "markdown",
   "metadata": {},
   "source": [
    "# Interest rates\n",
    "\n",
    "## Interpretation:\n",
    "\n",
    "Interest rates can be thought of in three ways:  \n",
    "**required rates of return** - the minimum rate of return an investor must receive in order to accept the investment  \n",
    "**discount rates** - rate of return that reflects the relationship between differently dated cash flows  \n",
    "**opportunity cost** - value that investors forgo by choosing a particular course of action  \n",
    "\n",
    "r = Real risk-free interest rate + Inflation premium + Default risk premium + Liquidity premium + Maturity premium\n",
    "\n",
    "**real risk-free interest rate** - single-period interest rate for a completely risk-free security if no inflation were expected  \n",
    "**inflation premium** - An extra return that compensates investors for expected inflation.; reflects the average inflation rate expected over the maturity of the debt  \n",
    "**nominal risk-free interest rate** - sum of the real risk-free interest rate and the inflation premium  \n",
    "**default risk premium** - An extra return that compensates investors for the possibility that the borrower will fail to make a promised payment at the contracted time and in the contracted amount.  \n",
    "**liquidity premium** - An extra return that compensates investors for the risk of loss relative to an investment’s fair value if the investment needs to be converted to cash quickly.  \n",
    "**maturity premium** - An extra return that compensates investors for the increased sensitivity of the market value of debt to a change in market interest rates as maturity is extended.  "
   ]
  },
  {
   "cell_type": "markdown",
   "metadata": {},
   "source": [
    "# Time Value of Money\n",
    "\n",
    "## Future Value of a Single Cash Flow\n",
    "\n",
    "For N = 1, the expression for the future value of amount PV is  \n",
    "FV<sub>1</sub> = PV(1 + r)\n",
    "Where,  \n",
    "PV = present value of the investment  \n",
    "FV<sub>N</sub> = future value of the investment N periods from today  \n",
    "r = rate of interest per period\n",
    "\n",
    "Suppose you invest $\\$$100(PV = $\\$$100) in an interest-bearing bank account paying 5 percent annually.  \n",
    "\n",
    "\\begin{equation}\n",
    " FV_1 = $100(1.05) = $1.05\n",
    " \\end{equation}\n",
    " \n",
    "Generalized: \\begin{equation}FV_N = PV(1 + r)^N\\end{equation}\n",
    "So that, \\begin{equation}FV_2 = $100(1 + 0.05)^2 = $110.25\\end{equation}"
   ]
  },
  {
   "cell_type": "markdown",
   "metadata": {},
   "source": [
    "# Non-Annual Compounding(Future Value)\n",
    "## Frequency of compounding\n",
    "\n",
    "**stated annual interest rate** or **quoted interest rate** - A quoted interest rate that does not account for compounding within the year.  \n",
    "The stated annual interest rate equals the monthly interest rate multiplied by 12.  \n",
    "\n",
    "With more than one compounding period per year, the future value formula can be expressed as:  \n",
    "\n",
    "\\begin{equation}\n",
    " FV_N = PV\\left(1+ \\frac{r_s}{m}\\right)^{mN}\n",
    " \\end{equation}\n",
    "\n",
    "Or in python:\n",
    "\n",
    "```python\n",
    "def FV(PV, r_s, m, N):\n",
    "    return PV * (1 + (r_S / m)) ** (m * N)```"
   ]
  },
  {
   "cell_type": "code",
   "execution_count": 2,
   "metadata": {},
   "outputs": [
    {
     "data": {
      "text/plain": [
       "11716.593810022658"
      ]
     },
     "execution_count": 2,
     "metadata": {},
     "output_type": "execute_result"
    }
   ],
   "source": [
    "def FV(PV, r_s, m, N):\n",
    "    return PV * (1 + (r_s / m)) ** (m * N)\n",
    "\n",
    "FV(10000, 0.08, 4, 2)"
   ]
  },
  {
   "cell_type": "markdown",
   "metadata": {},
   "source": [
    "# Continuous Compounding\n",
    "\n",
    "Infinitely many compounding periods per year.\n",
    "\n",
    "\\begin{equation}\n",
    " FV_N = PVe^{r_sN}\n",
    " \\end{equation}\n",
    "\n",
    "Or in python:\n",
    "```python\n",
    "import numpy as np\n",
    "\n",
    "def cont_comp_FV(PV, r_s, N):\n",
    "    return PV * np.exp(r_s * N)```"
   ]
  },
  {
   "cell_type": "code",
   "execution_count": 3,
   "metadata": {},
   "outputs": [
    {
     "data": {
      "text/plain": [
       "11735.108709918102"
      ]
     },
     "execution_count": 3,
     "metadata": {},
     "output_type": "execute_result"
    }
   ],
   "source": [
    "import numpy as np\n",
    "\n",
    "def cont_comp_FV(PV, r_s, N):\n",
    "    return PV * np.exp(r_s * N)\n",
    "\n",
    "cont_comp_FV(10000, .08, 2)"
   ]
  },
  {
   "cell_type": "markdown",
   "metadata": {},
   "source": [
    "\n",
    "|Frequency     |r<sub>s</sub>/m       |mN            |               Future Value of \\$1          |\n",
    "|-------------:|:---------------------|:------------:|:------------------------------------------:|\n",
    "|Annual        | 8\\%/1 = 8\\%          | 1 x 1 = 1    | $$\\$1.00(1.08)=$$\\$1.08                    |\n",
    "|Semiannual    | 8\\%/2 = 4\\%          | 2 x 1 = 2    | $$\\$1.00(1.04)^2=$$\\$1.081600              |\n",
    "|Quarterly     | 8\\%/4 = 2\\%          | 4 x 1 = 4    | $$\\$1.00(1.02)^4=$$\\$1.082432              |\n",
    "|Monthly       | 8\\%/12 = 0.667\\%     | 12 x 1 = 12  | $$\\$1.00(1.006667)^{12}=$$\\$1.083000       |\n",
    "|Daily         | 8\\%/365 = 0.0219\\%   | 365 x 1 = 365| $$\\$1.00(1.000219)^{365}=$$\\$1.083278      |\n",
    "|Continuous    | <img>                | <img>        | $$\\$1.00e^{0.08(1)}=$$\\$1.083287           |\n"
   ]
  },
  {
   "cell_type": "markdown",
   "metadata": {},
   "source": [
    "effective annual rate - The amount by which a unit of currency will grow in a year with interest on interest included.\n",
    "\n",
    "\\begin{equation}\n",
    " EAR = (1 +\\ Periodic\\ Interest\\ Rate)^m-1\n",
    " \\end{equation}\n",
    " \n",
    "or\n",
    "\\begin{equation}\n",
    " EAR = \\left(1 + \\frac{r_s}{m}\\right)^m-1\n",
    " \\end{equation}\n",
    " \n",
    " Or in python\n",
    " ```python\n",
    "def EAR(r_s, m):\n",
    "    return (1 + r_s / m) ** m - 1```"
   ]
  },
  {
   "cell_type": "code",
   "execution_count": 4,
   "metadata": {},
   "outputs": [
    {
     "data": {
      "text/plain": [
       "0.08160000000000012"
      ]
     },
     "execution_count": 4,
     "metadata": {},
     "output_type": "execute_result"
    }
   ],
   "source": [
    "def EAR(r_s, m):\n",
    "    return (1 + r_s / m) ** m - 1\n",
    "\n",
    "EAR(0.08, 2)"
   ]
  },
  {
   "cell_type": "markdown",
   "metadata": {},
   "source": [
    "## EAR with Continuous Compounding\n",
    "\n",
    "\\begin{equation}\n",
    " EAR = e^{r_s} - 1\n",
    " \\end{equation}\n",
    "\n",
    "Or in python\n",
    "\n",
    "```python\n",
    "def cont_ear(r_s):\n",
    "    return np.exp(r_s) - 1```"
   ]
  },
  {
   "cell_type": "code",
   "execution_count": 5,
   "metadata": {},
   "outputs": [
    {
     "data": {
      "text/plain": [
       "0.08328706767495864"
      ]
     },
     "execution_count": 5,
     "metadata": {},
     "output_type": "execute_result"
    }
   ],
   "source": [
    "def cont_ear(r_s):\n",
    "    return np.exp(r_s) - 1\n",
    "\n",
    "cont_ear(.08)"
   ]
  },
  {
   "cell_type": "markdown",
   "metadata": {},
   "source": [
    "Reversing the process and solving for r_s:\n",
    "\n",
    "\\begin{equation}\n",
    " EAR = e^{r_s} - 1\n",
    " \\end{equation}\n",
    " \n",
    "\\begin{equation}\n",
    " EAR + 1 = e^{r_s}\n",
    " \\end{equation}\n",
    "\n",
    "\\begin{equation}\n",
    " ln(EAR + 1) = lne^{r_s} = r_s\n",
    " \\end{equation}\n",
    "\n",
    "In python:\n",
    "\n",
    "```python\n",
    "def rs_from_cont_ear(EAR):\n",
    "    return np.log(EAR + 1)```\n"
   ]
  },
  {
   "cell_type": "code",
   "execution_count": 6,
   "metadata": {},
   "outputs": [
    {
     "data": {
      "text/plain": [
       "0.07999993752813746"
      ]
     },
     "execution_count": 6,
     "metadata": {},
     "output_type": "execute_result"
    }
   ],
   "source": [
    "def rs_from_cont_ear(EAR):\n",
    "    return np.log(EAR + 1)\n",
    "\n",
    "rs_from_cont_ear(0.083287)"
   ]
  },
  {
   "cell_type": "markdown",
   "metadata": {},
   "source": [
    "# Future Value of a Series of Cash Flows\n",
    "\n",
    "annuity - A finite set of level sequential cash flows.  \n",
    "ordinary annuity - An annuity with a first cash flow that is paid one period from the present.  \n",
    "annuity due - An annuity having a first cash flow that is paid immediately.  \n",
    "perpetuity - A perpetual annuity, or a set of never-ending level sequential cash flows, with the first cash flow occurring one period from now. A bond that does not mature.  \n",
    "\n",
    "## Equal Cash Flows—Ordinary Annuity:\n",
    "\n",
    "\\begin{equation}\n",
    " FV_N = A \\left[(1+r)^{N−1} + (1+r)^{N−2} + (1+r)^{N−3} + … + (1+r)^1 + (1+r)^0 \\right]\n",
    " \\end{equation}\n",
    "\n",
    "Which simplifies to:\n",
    "\n",
    "\\begin{equation}\n",
    " FV_N = A \\left[\\frac{(1+r)^{N}−1}{r} \\right]\n",
    " \\end{equation}\n",
    "\n",
    "In python:\n",
    "```python\n",
    "def fv_ord_ann(A, N, r):\n",
    "    return A * ((1 + r) ** N - 1) / r```\n",
    "\n",
    "Future Value Annutity Factor - the factor by which we multiply the amount of an annuity to arrive at the future value.  \n",
    "\n",
    "\\begin{equation}\n",
    " \\left[\\frac{(1+r)^{N}−1}{r} \\right]\n",
    " \\end{equation}\n",
    "\n",
    "In python:\n",
    "```python\n",
    "def fvaf(N, r):\n",
    "    return ((1 + r) ** N - 1) / r```"
   ]
  },
  {
   "cell_type": "code",
   "execution_count": 7,
   "metadata": {},
   "outputs": [
    {
     "data": {
      "text/plain": [
       "5525.631250000007"
      ]
     },
     "execution_count": 7,
     "metadata": {},
     "output_type": "execute_result"
    }
   ],
   "source": [
    "def fv_ord_ann(A, N, r):\n",
    "    return A * ((1 + r) ** N - 1) / r\n",
    "\n",
    "fv_ord_ann(1000, 5, 0.05)"
   ]
  },
  {
   "cell_type": "code",
   "execution_count": 8,
   "metadata": {},
   "outputs": [
    {
     "data": {
      "text/plain": [
       "5.525631250000007"
      ]
     },
     "execution_count": 8,
     "metadata": {},
     "output_type": "execute_result"
    }
   ],
   "source": [
    "def fvaf(N, r):\n",
    "    return ((1 + r) ** N - 1) / r\n",
    "\n",
    "fvaf(5, 0.05)"
   ]
  },
  {
   "cell_type": "markdown",
   "metadata": {},
   "source": [
    "## Unequal Cash Flows\n",
    "\n",
    "In many cases, cash flow streams are unequal, precluding the simple use of the future value annuity factor. One can always find the future value of a series of unequal cash flows by compounding the cash flows one at a time.  \n",
    "\n",
    "|Time\t|Cash Flow ($)\t|Future Value at Year 5            |\n",
    "|------:|:-------------:|---------------------------------:|\n",
    "| t = 1\t| \\$1,000\t    | $$\\$1,000(1.05)^4 = $$\\$1,215.51 |\n",
    "| t = 2\t| \\$2,000\t    | $$\\$2,000(1.05)^3 = $$\\$2,315.25 |\n",
    "| t = 3\t| \\$4,000\t    | $$\\$4,000(1.05)^2 = $$\\$4,410.00 |\n",
    "| t = 4\t| \\$5,000\t    | $$\\$5,000(1.05)^1 = $$\\$5,250.00 |\n",
    "| t = 5\t| \\$6,000\t    | $$\\$6,000(1.05)^0 = $$\\$6,000.00 |\n",
    "| <img> | <img>         |                Sum = \\$19,190.76 |"
   ]
  },
  {
   "cell_type": "markdown",
   "metadata": {},
   "source": [
    "## Finding the Present Value of a Single Cash Flow\n",
    "\n",
    "Given a future cash flow that is to be received in N periods and an interest rate per period of r, we can use the formula for future value to solve directly for the present value as follows:  \n",
    "\n",
    "\\begin{equation}\n",
    " FV_N = PV(1 + r)^{N}\n",
    " \\end{equation}\n",
    "\n",
    "\\begin{equation}\n",
    " PV = FV_N\\left[\\frac{1}{(1 + r)^{N}}\\right]\n",
    " \\end{equation}\n",
    "\n",
    "\\begin{equation}\n",
    " PV = FV_N(1 + r)^{-N}\n",
    " \\end{equation}\n",
    "\n",
    "In python:\n",
    "\n",
    "```python\n",
    "def pv_scf(FV, N, r):\n",
    "    return FV * (1 + r) ** -N```"
   ]
  },
  {
   "cell_type": "code",
   "execution_count": 15,
   "metadata": {},
   "outputs": [
    {
     "data": {
      "text/plain": [
       "63016.96268831045"
      ]
     },
     "execution_count": 15,
     "metadata": {},
     "output_type": "execute_result"
    }
   ],
   "source": [
    "def pv_scf(FV, N, r):\n",
    "    return FV * (1 + r) ** -N\n",
    "\n",
    "pv_scf(100000, 6, 0.08)"
   ]
  },
  {
   "cell_type": "markdown",
   "metadata": {},
   "source": [
    "## The Frequency of Compounding\n",
    "\n",
    "\\begin{equation}\n",
    " PV = FV_N\\left(1 + \\frac{r_s}{m}\\right)^{-mN}\n",
    " \\end{equation}\n",
    "\n",
    "## The Present Value of a Series of Equal Cash Flows\n",
    "\n",
    "\\begin{equation}\n",
    " PV = \\frac{A}{(1 + r)} + \\frac{A}{(1 + r)^2} + \\frac{A}{(1 + r)^3} + ... + \\frac{A}{(1 + r)^{N-1}} + \\frac{A}{(1 + r)^N}\n",
    " \\end{equation}\n",
    "where\n",
    "\n",
    "A = the annuity amount\n",
    "\n",
    "r = the interest rate per period corresponding to the frequency of annuity payments (for example, annual, quarterly, or monthly)\n",
    "\n",
    "N = the number of annuity payments\n",
    "\n",
    "Which can be simplified to\n",
    "\n",
    "\\begin{equation}\n",
    " PV = A\\left[\\frac{1-\\frac{1}{(1 + r)N}}{r}\\right]\n",
    " \\end{equation}\n",
    "\n",
    "In python:\n",
    "\n",
    "```python\n",
    "def pv_ann(A, N, r):\n",
    "    return A * ((1 - (1 / (1 + r) ** N)) / r)```"
   ]
  },
  {
   "cell_type": "code",
   "execution_count": 10,
   "metadata": {},
   "outputs": [
    {
     "data": {
      "text/plain": [
       "3604.776202345007"
      ]
     },
     "execution_count": 10,
     "metadata": {},
     "output_type": "execute_result"
    }
   ],
   "source": [
    "def pv_ann(A, N, r):\n",
    "    return A * ((1 - (1 / (1 + r) ** N)) / r)\n",
    "\n",
    "pv_ann(1000, 5, 0.12)"
   ]
  },
  {
   "cell_type": "markdown",
   "metadata": {},
   "source": [
    "## Annuity Due\n",
    "\n",
    "An annuity due has its first payment occurring today (t = 0). In total, the annuity due will make N payments.\n",
    "\n",
    "\\begin{equation}\n",
    " PV = A + \\frac{A}{(1 + r)} + \\frac{A}{(1 + r)^2} + \\frac{A}{(1 + r)^3} + ... + \\frac{A}{(1 + r)^{N-1}}\n",
    " \\end{equation}\n",
    "\n",
    "\\begin{equation}\n",
    " PV = A \\left[\\frac{1 - \\frac{1}{(1 + r)^N}}{r}\\right]\n",
    " \\end{equation}\n",
    "\n",
    "In python:\n",
    "\n",
    "```python\n",
    "def pv_ann_due(A, N, r):\n",
    "    return A + (A * ((1 - (1 / (1 + r) ** (N-1))) / r))```"
   ]
  },
  {
   "cell_type": "code",
   "execution_count": 11,
   "metadata": {},
   "outputs": [
    {
     "data": {
      "text/plain": [
       "2267119.048540459"
      ]
     },
     "execution_count": 11,
     "metadata": {},
     "output_type": "execute_result"
    }
   ],
   "source": [
    "def pv_ann_due(A, N, r):\n",
    "    return A + (A * ((1 - (1 / (1 + r) ** (N-1))) / r))\n",
    "\n",
    "pv_ann_due(200000, 20, 0.07)"
   ]
  },
  {
   "cell_type": "markdown",
   "metadata": {},
   "source": [
    "## The Projected Present Value of an Ordinary Annuity\n",
    "\n",
    "A German pension fund manager anticipates that benefits of €1 million per year must be paid to retirees. Retirements will not occur until 10 years from now at time t = 10. Once benefits begin to be paid, they will extend until t = 39 for a total of 30 payments. What is the present value of the pension liability if the appropriate annual discount rate for plan liabilities is 5 percent compounded annually?\n",
    "\n",
    "From t=9 this is an annuity with N=30. Then we can set the PV from the annuity to the FV for a standard PV equation with N=9. "
   ]
  },
  {
   "cell_type": "code",
   "execution_count": 12,
   "metadata": {},
   "outputs": [
    {
     "data": {
      "text/plain": [
       "15372451.026882842"
      ]
     },
     "execution_count": 12,
     "metadata": {},
     "output_type": "execute_result"
    }
   ],
   "source": [
    "# Calculate the annuity at t=9.\n",
    "pv_ann(1000000, 30, 0.05)"
   ]
  },
  {
   "cell_type": "code",
   "execution_count": 13,
   "metadata": {},
   "outputs": [
    {
     "data": {
      "text/plain": [
       "9909218.998059459"
      ]
     },
     "execution_count": 13,
     "metadata": {},
     "output_type": "execute_result"
    }
   ],
   "source": [
    "# Then calculate the PV for a lump sum with N=9.\n",
    "pv_scf(15372451.03, 9, 0.05)"
   ]
  },
  {
   "cell_type": "markdown",
   "metadata": {},
   "source": [
    "## The Present Value of a Series of Unequal Cash Flows\n",
    "\n",
    "When we have unequal cash flows, we must first find the present value of each individual cash flow and then sum the respective present values.\n",
    "\n",
    "|Time Period    |Cash Flow (\\$)  | Present Value at Year 0       |\n",
    "|:-------------:|:-------------:|:------------------------------|\n",
    "| 1\t            | 1,000         | $$\\$1,000(1.05) − 1 = $$\\$952.38    |\n",
    "| 2\t            | 2,000         | $$\\$2,000(1.05) − 2 = $$\\$1,814.06  |\n",
    "| 3\t            | 4,000         | $$\\$4,000(1.05) − 3 = $$\\$3,455.35  |\n",
    "| 4\t            | 5,000         | $$\\$5,000(1.05) − 4 = $$\\$4,113.51  |\n",
    "| 5\t            | 6,000         | $$\\$6,000(1.05) − 5 = $$\\$4,701.16  |\n",
    "| <img>         | <img>         |               Sum = $$\\$15,036.46|\n",
    "\n",
    "We can accomplish this in python using pandas and numpy by creating a pandas dataframe from a numpy array containing the cashflows, remembering to add a \\$0.00 cf as the first element of the array to represent time t=0. Then we simply define a function that uses np.vectorize to apply the pv_scf function we defined earlier to each cf, creating a new column of present values to the dataframe that we then sum and return as the PV of the cashflows.  \n",
    "\n",
    "```python\n",
    "df = pd.DataFrame(np.array([cf0, cf1, cf2,..., cfn]))\n",
    "\n",
    "def pv_ucf(df, r):\n",
    "    df['PV'] = np.vectorize(pv_scf)(df.iloc[:, 0], df.index, r)\n",
    "    return df['PV'].sum()```"
   ]
  },
  {
   "cell_type": "code",
   "execution_count": 43,
   "metadata": {},
   "outputs": [
    {
     "data": {
      "text/plain": [
       "15036.459676193119"
      ]
     },
     "execution_count": 43,
     "metadata": {},
     "output_type": "execute_result"
    }
   ],
   "source": [
    "import pandas as pd\n",
    "\n",
    "ex_cf = pd.DataFrame(np.array([0, 1000, 2000, 4000, 5000, 6000]))\n",
    "\n",
    "def pv_ucf(df, r):\n",
    "    df['PV'] = np.vectorize(pv_scf)(df.iloc[:, 0], df.index, r)\n",
    "    return df['PV'].sum()\n",
    "    \n",
    "pv_ucf(ex_cf, 0.05)"
   ]
  },
  {
   "cell_type": "code",
   "execution_count": 44,
   "metadata": {},
   "outputs": [
    {
     "data": {
      "text/html": [
       "<div>\n",
       "<style scoped>\n",
       "    .dataframe tbody tr th:only-of-type {\n",
       "        vertical-align: middle;\n",
       "    }\n",
       "\n",
       "    .dataframe tbody tr th {\n",
       "        vertical-align: top;\n",
       "    }\n",
       "\n",
       "    .dataframe thead th {\n",
       "        text-align: right;\n",
       "    }\n",
       "</style>\n",
       "<table border=\"1\" class=\"dataframe\">\n",
       "  <thead>\n",
       "    <tr style=\"text-align: right;\">\n",
       "      <th></th>\n",
       "      <th>0</th>\n",
       "      <th>PV</th>\n",
       "    </tr>\n",
       "  </thead>\n",
       "  <tbody>\n",
       "    <tr>\n",
       "      <th>0</th>\n",
       "      <td>0</td>\n",
       "      <td>0.000000</td>\n",
       "    </tr>\n",
       "    <tr>\n",
       "      <th>1</th>\n",
       "      <td>1000</td>\n",
       "      <td>952.380952</td>\n",
       "    </tr>\n",
       "    <tr>\n",
       "      <th>2</th>\n",
       "      <td>2000</td>\n",
       "      <td>1814.058957</td>\n",
       "    </tr>\n",
       "    <tr>\n",
       "      <th>3</th>\n",
       "      <td>4000</td>\n",
       "      <td>3455.350394</td>\n",
       "    </tr>\n",
       "    <tr>\n",
       "      <th>4</th>\n",
       "      <td>5000</td>\n",
       "      <td>4113.512374</td>\n",
       "    </tr>\n",
       "    <tr>\n",
       "      <th>5</th>\n",
       "      <td>6000</td>\n",
       "      <td>4701.156999</td>\n",
       "    </tr>\n",
       "  </tbody>\n",
       "</table>\n",
       "</div>"
      ],
      "text/plain": [
       "      0           PV\n",
       "0     0     0.000000\n",
       "1  1000   952.380952\n",
       "2  2000  1814.058957\n",
       "3  4000  3455.350394\n",
       "4  5000  4113.512374\n",
       "5  6000  4701.156999"
      ]
     },
     "execution_count": 44,
     "metadata": {},
     "output_type": "execute_result"
    }
   ],
   "source": [
    "ex_cf"
   ]
  },
  {
   "cell_type": "markdown",
   "metadata": {},
   "source": [
    "## The Present Value of an Infinite Series of Equal Cash Flows—Perpetuity\n",
    "\n",
    "\\begin{equation}\n",
    " PV = A\\sum_{t=1}^{\\infty}\\left[\\frac{1}{(1 + r)^t}\\right]\n",
    " \\end{equation}\n",
    "\n",
    "As long as interest rates are positive, the sum of present value factors converges and\n",
    "\n",
    "\\begin{equation}\n",
    " PV = \\frac{A}{r}\n",
    " \\end{equation}\n",
    "\n",
    "In python\n",
    "```python\n",
    "def pv_per(A, r):\n",
    "    return A / r```\n"
   ]
  },
  {
   "cell_type": "code",
   "execution_count": 45,
   "metadata": {},
   "outputs": [
    {
     "data": {
      "text/plain": [
       "2000.0"
      ]
     },
     "execution_count": 45,
     "metadata": {},
     "output_type": "execute_result"
    }
   ],
   "source": [
    "def pv_per(A, r):\n",
    "    return A / r\n",
    "\n",
    "pv_per(100, 0.05)"
   ]
  },
  {
   "cell_type": "markdown",
   "metadata": {},
   "source": [
    "## Present Values Indexed at Times Other than t = 0"
   ]
  },
  {
   "cell_type": "markdown",
   "metadata": {},
   "source": [
    "In practice with investments, analysts frequently need to find present values indexed at times other than t = 0. Subscripting the present value and evaluating a perpetuity beginning with 100 payments in Year 2, we find PV<sub>1</sub> =  100 / 0.05 = 2,000 at a 5 percent discount rate. Further, we can calculate today’s PV as PV<sub>0</sub> = 2,000 / 1.05 = 1,904.76."
   ]
  },
  {
   "cell_type": "markdown",
   "metadata": {},
   "source": [
    "In python we can define a function that accepts an amount, rate, and time t at which the perpetuity will begin producing cashflows. The pv_per will then be discounted from time t-1 back to t=0 utilizing our previously defined pv_scf function.\n",
    "```python\n",
    "def pv_per_at_t(A, r, t):\n",
    "    return pv_scf(pv_per(A, r), t, r)```"
   ]
  },
  {
   "cell_type": "code",
   "execution_count": 48,
   "metadata": {},
   "outputs": [
    {
     "data": {
      "text/plain": [
       "1645.4049495837637"
      ]
     },
     "execution_count": 48,
     "metadata": {},
     "output_type": "execute_result"
    }
   ],
   "source": [
    "def pv_per_at_t(A, r, t):\n",
    "    return pv_scf(pv_per(A, r), t-1, r)\n",
    "\n",
    "pv_per_at_t(100, 0.05, 5)"
   ]
  },
  {
   "cell_type": "markdown",
   "metadata": {},
   "source": [
    "## Solving for Interest Rates and Growth Rates\n",
    "\n",
    "\\begin{equation}\n",
    " r = \\left(\\frac{FV_N}{PV}\\right)^{\\frac{1}{N}} – 1\n",
    " \\end{equation}\n",
    "\n",
    "\\begin{equation}\n",
    " g = \\left(\\frac{FV_N}{PV}\\right)^{\\frac{1}{N}} – 1\n",
    " \\end{equation}\n",
    "\n",
    "```python\n",
    "def g_rate(PV, FV_N, N):\n",
    "    return (FV_N / PV) ** (1 / N) -1```"
   ]
  },
  {
   "cell_type": "code",
   "execution_count": 50,
   "metadata": {},
   "outputs": [
    {
     "name": "stdout",
     "output_type": "stream",
     "text": [
      "0.07729127402544611 -0.008029319034508764\n"
     ]
    }
   ],
   "source": [
    "def g_rate(PV, FV_N, N):\n",
    "    return (FV_N / PV) ** (1 / N) -1\n",
    "\n",
    "sales_g = g_rate(10503, 14146.4, 4)\n",
    "\n",
    "profit_g = g_rate(822.5, 796.4, 4)\n",
    "\n",
    "print(sales_g, profit_g)"
   ]
  },
  {
   "cell_type": "markdown",
   "metadata": {},
   "source": [
    "## Solving for the Number of Periods"
   ]
  },
  {
   "cell_type": "code",
   "execution_count": null,
   "metadata": {},
   "outputs": [],
   "source": []
  }
 ],
 "metadata": {
  "kernelspec": {
   "display_name": "Python 3",
   "language": "python",
   "name": "python3"
  },
  "language_info": {
   "codemirror_mode": {
    "name": "ipython",
    "version": 3
   },
   "file_extension": ".py",
   "mimetype": "text/x-python",
   "name": "python",
   "nbconvert_exporter": "python",
   "pygments_lexer": "ipython3",
   "version": "3.7.0"
  }
 },
 "nbformat": 4,
 "nbformat_minor": 2
}
