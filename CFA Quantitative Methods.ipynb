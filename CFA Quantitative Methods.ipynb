{
 "cells": [
  {
   "cell_type": "markdown",
   "metadata": {},
   "source": [
    "# Interest rates\n",
    "\n",
    "## Interpretation:\n",
    "\n",
    "Interest rates can be thought of in three ways:  \n",
    "**required rates of return** - the minimum rate of return an investor must receive in order to accept the investment  \n",
    "**discount rates** - rate of return that reflects the relationship between differently dated cash flows  \n",
    "**opportunity cost** - value that investors forgo by choosing a particular course of action  \n",
    "\n",
    "r = Real risk-free interest rate + Inflation premium + Default risk premium + Liquidity premium + Maturity premium\n",
    "\n",
    "**real risk-free interest rate** - single-period interest rate for a completely risk-free security if no inflation were expected  \n",
    "**inflation premium** - An extra return that compensates investors for expected inflation.; reflects the average inflation rate expected over the maturity of the debt  \n",
    "**nominal risk-free interest rate** - sum of the real risk-free interest rate and the inflation premium  \n",
    "**default risk premium** - An extra return that compensates investors for the possibility that the borrower will fail to make a promised payment at the contracted time and in the contracted amount.  \n",
    "**liquidity premium** - An extra return that compensates investors for the risk of loss relative to an investment’s fair value if the investment needs to be converted to cash quickly.  \n",
    "**maturity premium** - An extra return that compensates investors for the increased sensitivity of the market value of debt to a change in market interest rates as maturity is extended.  "
   ]
  },
  {
   "cell_type": "markdown",
   "metadata": {},
   "source": [
    "# Time Value of Money\n",
    "\n",
    "## Future Value of a Single Cash Flow\n",
    "\n",
    "For N = 1, the expression for the future value of amount PV is  \n",
    "FV<sub>1</sub> = PV(1 + r)\n",
    "Where,  \n",
    "PV = present value of the investment  \n",
    "FV<sub>N</sub> = future value of the investment N periods from today  \n",
    "r = rate of interest per period\n",
    "\n",
    "Suppose you invest $\\$$100(PV = $\\$$100) in an interest-bearing bank account paying 5 percent annually.  \n",
    "\n",
    "\\begin{equation}\n",
    " FV_1 = $100(1.05) = $1.05\n",
    " \\end{equation}\n",
    " \n",
    "Generalized: \\begin{equation}FV_N = PV(1 + r)^N\\end{equation}\n",
    "So that, \\begin{equation}FV_2 = $100(1 + 0.05)^2 = $110.25\\end{equation}"
   ]
  },
  {
   "cell_type": "markdown",
   "metadata": {},
   "source": [
    "# Non-Annual Compounding(Future Value)\n",
    "## Frequency of compounding\n",
    "\n",
    "**stated annual interest rate** or **quoted interest rate** - A quoted interest rate that does not account for compounding within the year.  \n",
    "The stated annual interest rate equals the monthly interest rate multiplied by 12.  \n",
    "\n",
    "With more than one compounding period per year, the future value formula can be expressed as:  \n",
    "\n",
    "\\begin{equation}\n",
    " FV_N = PV\\left(1+ \\frac{r_s}{m}\\right)^{mN}\n",
    " \\end{equation}\n",
    "\n",
    "Or in python:\n",
    "\n",
    "```python\n",
    "def FV(PV, r_s, m, N):\n",
    "    return PV * (1 + (r_S / m)) ** (m * N)```"
   ]
  },
  {
   "cell_type": "code",
   "execution_count": 60,
   "metadata": {},
   "outputs": [
    {
     "data": {
      "text/plain": [
       "11716.593810022658"
      ]
     },
     "execution_count": 60,
     "metadata": {},
     "output_type": "execute_result"
    }
   ],
   "source": [
    "def FV(PV, r_s, m, N):\n",
    "    return PV * (1 + (r_s / m)) ** (m * N)\n",
    "\n",
    "FV(10000, 0.08, 4, 2)"
   ]
  },
  {
   "cell_type": "markdown",
   "metadata": {},
   "source": [
    "# Continuous Compounding\n",
    "\n",
    "Infinitely many compounding periods per year.\n",
    "\n",
    "\\begin{equation}\n",
    " FV_N = PVe^{r_sN}\n",
    " \\end{equation}\n",
    "\n",
    "Or in python:\n",
    "```python\n",
    "import numpy as np\n",
    "\n",
    "def cont_comp_FV(PV, r_s, N):\n",
    "    return PV * np.exp(r_s * N)```"
   ]
  },
  {
   "cell_type": "code",
   "execution_count": 61,
   "metadata": {},
   "outputs": [
    {
     "data": {
      "text/plain": [
       "11735.108709918102"
      ]
     },
     "execution_count": 61,
     "metadata": {},
     "output_type": "execute_result"
    }
   ],
   "source": [
    "import numpy as np\n",
    "\n",
    "def cont_comp_FV(PV, r_s, N):\n",
    "    return PV * np.exp(r_s * N)\n",
    "\n",
    "cont_comp_FV(10000, .08, 2)"
   ]
  },
  {
   "cell_type": "markdown",
   "metadata": {},
   "source": [
    "\n",
    "|Frequency     |r<sub>s</sub>/m       |mN            |               Future Value of \\$1          |\n",
    "|-------------:|:---------------------|:------------:|:------------------------------------------:|\n",
    "|Annual        | 8\\%/1 = 8\\%          | 1 x 1 = 1    | $$\\$1.00(1.08)=$$\\$1.08                    |\n",
    "|Semiannual    | 8\\%/2 = 4\\%          | 2 x 1 = 2    | $$\\$1.00(1.04)^2=$$\\$1.081600              |\n",
    "|Quarterly     | 8\\%/4 = 2\\%          | 4 x 1 = 4    | $$\\$1.00(1.02)^4=$$\\$1.082432              |\n",
    "|Monthly       | 8\\%/12 = 0.667\\%     | 12 x 1 = 12  | $$\\$1.00(1.006667)^{12}=$$\\$1.083000       |\n",
    "|Daily         | 8\\%/365 = 0.0219\\%   | 365 x 1 = 365| $$\\$1.00(1.000219)^{365}=$$\\$1.083278      |\n",
    "|Continuous    | <img>                | <img>        | $$\\$1.00e^{0.08(1)}=$$\\$1.083287           |\n"
   ]
  },
  {
   "cell_type": "markdown",
   "metadata": {},
   "source": [
    "effective annual rate - The amount by which a unit of currency will grow in a year with interest on interest included.\n",
    "\n",
    "\\begin{equation}\n",
    " EAR = (1 +\\ Periodic\\ Interest\\ Rate)^m-1\n",
    " \\end{equation}\n",
    " \n",
    "or\n",
    "\\begin{equation}\n",
    " EAR = \\left(1 + \\frac{r_s}{m}\\right)^m-1\n",
    " \\end{equation}\n",
    " \n",
    " Or in python\n",
    " ```python\n",
    "def EAR(r_s, m):\n",
    "    return (1 + r_s / m) ** m - 1```"
   ]
  },
  {
   "cell_type": "code",
   "execution_count": 62,
   "metadata": {},
   "outputs": [
    {
     "data": {
      "text/plain": [
       "0.08160000000000012"
      ]
     },
     "execution_count": 62,
     "metadata": {},
     "output_type": "execute_result"
    }
   ],
   "source": [
    "def EAR(r_s, m):\n",
    "    return (1 + r_s / m) ** m - 1\n",
    "\n",
    "EAR(0.08, 2)"
   ]
  },
  {
   "cell_type": "markdown",
   "metadata": {},
   "source": [
    "## EAR with Continuous Compounding\n",
    "\n",
    "\\begin{equation}\n",
    " EAR = e^{r_s} - 1\n",
    " \\end{equation}\n",
    "\n",
    "Or in python\n",
    "\n",
    "```python\n",
    "def cont_ear(r_s):\n",
    "    return np.exp(r_s) - 1```"
   ]
  },
  {
   "cell_type": "code",
   "execution_count": 63,
   "metadata": {},
   "outputs": [
    {
     "data": {
      "text/plain": [
       "0.08328706767495864"
      ]
     },
     "execution_count": 63,
     "metadata": {},
     "output_type": "execute_result"
    }
   ],
   "source": [
    "def cont_ear(r_s):\n",
    "    return np.exp(r_s) - 1\n",
    "\n",
    "cont_ear(.08)"
   ]
  },
  {
   "cell_type": "markdown",
   "metadata": {},
   "source": [
    "Reversing the process and solving for r_s:\n",
    "\n",
    "\\begin{equation}\n",
    " EAR = e^{r_s} - 1\n",
    " \\end{equation}\n",
    " \n",
    "\\begin{equation}\n",
    " EAR + 1 = e^{r_s}\n",
    " \\end{equation}\n",
    "\n",
    "\\begin{equation}\n",
    " ln(EAR + 1) = lne^{r_s} = r_s\n",
    " \\end{equation}\n",
    "\n",
    "In python:\n",
    "\n",
    "```python\n",
    "def rs_from_cont_ear(EAR):\n",
    "    return np.log(EAR + 1)```\n"
   ]
  },
  {
   "cell_type": "code",
   "execution_count": 64,
   "metadata": {},
   "outputs": [
    {
     "data": {
      "text/plain": [
       "0.07999993752813746"
      ]
     },
     "execution_count": 64,
     "metadata": {},
     "output_type": "execute_result"
    }
   ],
   "source": [
    "def rs_from_cont_ear(EAR):\n",
    "    return np.log(EAR + 1)\n",
    "\n",
    "rs_from_cont_ear(0.083287)"
   ]
  },
  {
   "cell_type": "markdown",
   "metadata": {},
   "source": [
    "# Future Value of a Series of Cash Flows\n",
    "\n",
    "annuity - A finite set of level sequential cash flows.  \n",
    "ordinary annuity - An annuity with a first cash flow that is paid one period from the present.  \n",
    "annuity due - An annuity having a first cash flow that is paid immediately.  \n",
    "perpetuity - A perpetual annuity, or a set of never-ending level sequential cash flows, with the first cash flow occurring one period from now. A bond that does not mature.  \n",
    "\n",
    "## Equal Cash Flows—Ordinary Annuity:\n",
    "\n",
    "\\begin{equation}\n",
    " FV_N = A \\left[(1+r)^{N−1} + (1+r)^{N−2} + (1+r)^{N−3} + … + (1+r)^1 + (1+r)^0 \\right]\n",
    " \\end{equation}\n",
    "\n",
    "Which simplifies to:\n",
    "\n",
    "\\begin{equation}\n",
    " FV_N = A \\left[\\frac{(1+r)^{N}−1}{r} \\right]\n",
    " \\end{equation}\n",
    "\n",
    "In python:\n",
    "```python\n",
    "def fv_ord_ann(A, N, r):\n",
    "    return A * ((1 + r) ** N - 1) / r```\n",
    "\n",
    "Future Value Annutity Factor - the factor by which we multiply the amount of an annuity to arrive at the future value.  \n",
    "\n",
    "\\begin{equation}\n",
    " \\left[\\frac{(1+r)^{N}−1}{r} \\right]\n",
    " \\end{equation}\n",
    "\n",
    "In python:\n",
    "```python\n",
    "def fvaf(N, r):\n",
    "    return ((1 + r) ** N - 1) / r```"
   ]
  },
  {
   "cell_type": "code",
   "execution_count": 65,
   "metadata": {},
   "outputs": [
    {
     "data": {
      "text/plain": [
       "5525.631250000007"
      ]
     },
     "execution_count": 65,
     "metadata": {},
     "output_type": "execute_result"
    }
   ],
   "source": [
    "def fv_ord_ann(A, N, r):\n",
    "    return A * ((1 + r) ** N - 1) / r\n",
    "\n",
    "fv_ord_ann(1000, 5, 0.05)"
   ]
  },
  {
   "cell_type": "code",
   "execution_count": 66,
   "metadata": {},
   "outputs": [
    {
     "data": {
      "text/plain": [
       "5.525631250000007"
      ]
     },
     "execution_count": 66,
     "metadata": {},
     "output_type": "execute_result"
    }
   ],
   "source": [
    "def fvaf(N, r):\n",
    "    return ((1 + r) ** N - 1) / r\n",
    "\n",
    "fvaf(5, 0.05)"
   ]
  },
  {
   "cell_type": "markdown",
   "metadata": {},
   "source": [
    "## Unequal Cash Flows\n",
    "\n",
    "In many cases, cash flow streams are unequal, precluding the simple use of the future value annuity factor. One can always find the future value of a series of unequal cash flows by compounding the cash flows one at a time.  \n",
    "\n",
    "|Time\t|Cash Flow ($)\t|Future Value at Year 5            |\n",
    "|------:|:-------------:|---------------------------------:|\n",
    "| t = 1\t| \\$1,000\t    | $$\\$1,000(1.05)^4 = $$\\$1,215.51 |\n",
    "| t = 2\t| \\$2,000\t    | $$\\$2,000(1.05)^3 = $$\\$2,315.25 |\n",
    "| t = 3\t| \\$4,000\t    | $$\\$4,000(1.05)^2 = $$\\$4,410.00 |\n",
    "| t = 4\t| \\$5,000\t    | $$\\$5,000(1.05)^1 = $$\\$5,250.00 |\n",
    "| t = 5\t| \\$6,000\t    | $$\\$6,000(1.05)^0 = $$\\$6,000.00 |\n",
    "| <img> | <img>         |                Sum = \\$19,190.76 |\n",
    "\n",
    "In python we can use pandas and numpy to calculate this future value by derfining a function thar accepts a pandas DataFrame as input and applies the previously defined FV function to each element using t - that element's index as N while stating r_s explicitly and defining m when not equal to 1.  \n",
    "```python\n",
    "def fv_ucf(df, r, m=1):\n",
    "    df['t'] = cf_t[0].size - 1\n",
    "    df['N'] = cf_t['t'] - cf_t.index\n",
    "    return np.vectorize(FV)(df.iloc[:, 0], r, m, df['N']).sum()``` "
   ]
  },
  {
   "cell_type": "code",
   "execution_count": 83,
   "metadata": {},
   "outputs": [
    {
     "data": {
      "text/plain": [
       "19190.75625"
      ]
     },
     "execution_count": 83,
     "metadata": {},
     "output_type": "execute_result"
    }
   ],
   "source": [
    "import pandas as pd\n",
    "\n",
    "def fv_ucf(df, r, m=1):\n",
    "    df['t'] = cf_t[0].size - 1\n",
    "    df['N'] = cf_t['t'] - cf_t.index\n",
    "    return np.vectorize(FV)(df.iloc[:, 0], r, m, df['N']).sum()\n",
    "\n",
    "cf_t = pd.DataFrame(np.array([0, 1000, 2000, 4000, 5000, 6000]))\n",
    "\n",
    "fv_ucf(cf_t, 0.05)"
   ]
  },
  {
   "cell_type": "code",
   "execution_count": 84,
   "metadata": {},
   "outputs": [
    {
     "data": {
      "text/html": [
       "<div>\n",
       "<style scoped>\n",
       "    .dataframe tbody tr th:only-of-type {\n",
       "        vertical-align: middle;\n",
       "    }\n",
       "\n",
       "    .dataframe tbody tr th {\n",
       "        vertical-align: top;\n",
       "    }\n",
       "\n",
       "    .dataframe thead th {\n",
       "        text-align: right;\n",
       "    }\n",
       "</style>\n",
       "<table border=\"1\" class=\"dataframe\">\n",
       "  <thead>\n",
       "    <tr style=\"text-align: right;\">\n",
       "      <th></th>\n",
       "      <th>0</th>\n",
       "      <th>t</th>\n",
       "      <th>N</th>\n",
       "    </tr>\n",
       "  </thead>\n",
       "  <tbody>\n",
       "    <tr>\n",
       "      <th>0</th>\n",
       "      <td>0</td>\n",
       "      <td>5</td>\n",
       "      <td>5</td>\n",
       "    </tr>\n",
       "    <tr>\n",
       "      <th>1</th>\n",
       "      <td>1000</td>\n",
       "      <td>5</td>\n",
       "      <td>4</td>\n",
       "    </tr>\n",
       "    <tr>\n",
       "      <th>2</th>\n",
       "      <td>2000</td>\n",
       "      <td>5</td>\n",
       "      <td>3</td>\n",
       "    </tr>\n",
       "    <tr>\n",
       "      <th>3</th>\n",
       "      <td>4000</td>\n",
       "      <td>5</td>\n",
       "      <td>2</td>\n",
       "    </tr>\n",
       "    <tr>\n",
       "      <th>4</th>\n",
       "      <td>5000</td>\n",
       "      <td>5</td>\n",
       "      <td>1</td>\n",
       "    </tr>\n",
       "    <tr>\n",
       "      <th>5</th>\n",
       "      <td>6000</td>\n",
       "      <td>5</td>\n",
       "      <td>0</td>\n",
       "    </tr>\n",
       "  </tbody>\n",
       "</table>\n",
       "</div>"
      ],
      "text/plain": [
       "      0  t  N\n",
       "0     0  5  5\n",
       "1  1000  5  4\n",
       "2  2000  5  3\n",
       "3  4000  5  2\n",
       "4  5000  5  1\n",
       "5  6000  5  0"
      ]
     },
     "execution_count": 84,
     "metadata": {},
     "output_type": "execute_result"
    }
   ],
   "source": [
    "cf_t"
   ]
  },
  {
   "cell_type": "markdown",
   "metadata": {},
   "source": [
    "## Finding the Present Value of a Single Cash Flow\n",
    "\n",
    "Given a future cash flow that is to be received in N periods and an interest rate per period of r, we can use the formula for future value to solve directly for the present value as follows:  \n",
    "\n",
    "\\begin{equation}\n",
    " FV_N = PV(1 + r)^{N}\n",
    " \\end{equation}\n",
    "\n",
    "\\begin{equation}\n",
    " PV = FV_N\\left[\\frac{1}{(1 + r)^{N}}\\right]\n",
    " \\end{equation}\n",
    "\n",
    "\\begin{equation}\n",
    " PV = FV_N(1 + r)^{-N}\n",
    " \\end{equation}\n",
    "\n",
    "In python:\n",
    "\n",
    "```python\n",
    "def pv_scf(FV, N, r):\n",
    "    return FV * (1 + r) ** -N```"
   ]
  },
  {
   "cell_type": "code",
   "execution_count": null,
   "metadata": {},
   "outputs": [],
   "source": [
    "def pv_scf(FV, N, r):\n",
    "    return FV * (1 + r) ** -N\n",
    "\n",
    "pv_scf(100000, 6, 0.08)"
   ]
  },
  {
   "cell_type": "markdown",
   "metadata": {},
   "source": [
    "## The Frequency of Compounding\n",
    "\n",
    "\\begin{equation}\n",
    " PV = FV_N\\left(1 + \\frac{r_s}{m}\\right)^{-mN}\n",
    " \\end{equation}\n",
    "\n",
    "## The Present Value of a Series of Equal Cash Flows\n",
    "\n",
    "\\begin{equation}\n",
    " PV = \\frac{A}{(1 + r)} + \\frac{A}{(1 + r)^2} + \\frac{A}{(1 + r)^3} + ... + \\frac{A}{(1 + r)^{N-1}} + \\frac{A}{(1 + r)^N}\n",
    " \\end{equation}\n",
    "where\n",
    "\n",
    "A = the annuity amount\n",
    "\n",
    "r = the interest rate per period corresponding to the frequency of annuity payments (for example, annual, quarterly, or monthly)\n",
    "\n",
    "N = the number of annuity payments\n",
    "\n",
    "Which can be simplified to\n",
    "\n",
    "\\begin{equation}\n",
    " PV = A\\left[\\frac{1-\\frac{1}{(1 + r)N}}{r}\\right]\n",
    " \\end{equation}\n",
    "\n",
    "In python:\n",
    "\n",
    "```python\n",
    "def pv_ann(A, N, r):\n",
    "    return A * ((1 - (1 / (1 + r) ** N)) / r)```"
   ]
  },
  {
   "cell_type": "code",
   "execution_count": null,
   "metadata": {},
   "outputs": [],
   "source": [
    "def pv_ann(A, N, r):\n",
    "    return A * ((1 - (1 / (1 + r) ** N)) / r)\n",
    "\n",
    "pv_ann(1000, 5, 0.12)"
   ]
  },
  {
   "cell_type": "markdown",
   "metadata": {},
   "source": [
    "## Annuity Due\n",
    "\n",
    "An annuity due has its first payment occurring today (t = 0). In total, the annuity due will make N payments.\n",
    "\n",
    "\\begin{equation}\n",
    " PV = A + \\frac{A}{(1 + r)} + \\frac{A}{(1 + r)^2} + \\frac{A}{(1 + r)^3} + ... + \\frac{A}{(1 + r)^{N-1}}\n",
    " \\end{equation}\n",
    "\n",
    "\\begin{equation}\n",
    " PV = A + A\\left[\\frac{1-\\frac{1}{(1 + r)^{N-1}}}{r}\\right]\n",
    " \\end{equation}\n",
    "\n",
    "In python:\n",
    "\n",
    "```python\n",
    "def pv_ann_due(A, N, r):\n",
    "    return A + (A * ((1 - (1 / (1 + r) ** (N-1))) / r))```"
   ]
  },
  {
   "cell_type": "code",
   "execution_count": null,
   "metadata": {},
   "outputs": [],
   "source": [
    "def pv_ann_due(A, N, r):\n",
    "    return A + (A * ((1 - (1 / (1 + r) ** (N-1))) / r))\n",
    "\n",
    "pv_ann_due(200000, 20, 0.07)"
   ]
  },
  {
   "cell_type": "markdown",
   "metadata": {},
   "source": [
    "## Solving for the Number of Periods\n",
    "\n",
    "\\begin{equation}\n",
    " N = \\frac{ln(\\frac{FV_n}{PV})}{ln(1 + r)}\n",
    " \\end{equation}\n",
    "\n",
    "\\begin{equation}\n",
    " N = \\frac{ln(FV_n) - ln(PV)}{ln(1 + r)}\n",
    " \\end{equation}"
   ]
  },
  {
   "cell_type": "markdown",
   "metadata": {},
   "source": [
    "In python\n",
    "```python\n",
    "def N_periods(FV, PV, r):\n",
    "    return (np.log(FV) - np.log(PV)) / (np.log(1 + r))```"
   ]
  },
  {
   "cell_type": "code",
   "execution_count": null,
   "metadata": {},
   "outputs": [],
   "source": [
    "def N_periods(FV, PV, r):\n",
    "    return (np.log(FV) - np.log(PV)) / (np.log(1 + r))\n",
    "\n",
    "N_periods(20000000, 10000000, 0.07)"
   ]
  },
  {
   "cell_type": "markdown",
   "metadata": {},
   "source": [
    "## Solving for Size of Annuity Payments (Combining Future Value and Present Value Annuities)\n",
    "\n",
    "\\begin{equation}\n",
    " PV = A\\left[\\frac{1-\\frac{1}{(1 + r)N}}{r}\\right]\n",
    " \\end{equation}\n",
    "\n",
    "\\begin{equation}\n",
    " Present\\ value\\ annuity\\ factor\\ (PVAF) = \\left[\\frac{1-\\frac{1}{(1 + r)N}}{r}\\right]\n",
    " \\end{equation}\n",
    "\n",
    "With multiple compounding periods per year\n",
    "\n",
    "\\begin{equation}\n",
    " Present\\ value\\ annuity\\ factor\\ (PVAF) = \\left[\\frac{1-\\frac{1}{(1 + \\frac{r}{m})mN}}{\\frac{r}{m}}\\right]\n",
    " \\end{equation}\n",
    "\n",
    "\\begin{equation}\n",
    " PV = A * PVAF\n",
    " \\end{equation}\n",
    "\n",
    "\\begin{equation}\n",
    " A = \\frac{PV}{PVAF}\n",
    " \\end{equation}\n",
    "\n",
    "In python\n",
    "```python\n",
    "def ann_pmt(PV, N, m, r):\n",
    "    return PV / ((1 - (1 / (1 + (r / m)) ** (m * N))) / (r / m))```"
   ]
  },
  {
   "cell_type": "code",
   "execution_count": null,
   "metadata": {},
   "outputs": [],
   "source": [
    "def ann_pmt(PV, N, m, r):\n",
    "    return PV / ((1 - (1 / (1 + (r / m)) ** (m * N))) / (r / m))\n",
    "\n",
    "ann_pmt(100000, 30, 12, 0.08)"
   ]
  },
  {
   "cell_type": "markdown",
   "metadata": {},
   "source": [
    "## The Projected Annuity Amount Needed to Fund a Future-Annuity Inflow\n",
    "\n",
    "1. Find the future value of the savings of $2,000 per year and index it at t = 15. This value tells us how much Grant will have saved.\n",
    "\n",
    "2. Find the present value of the retirement income at t = 15. This value tells us how much Grant needs to meet her retirement goals (as of t = 15). Two substeps are necessary. First, calculate the present value of the annuity of $100,000 per year at t = 40. Use the formula for the present value of an annuity. (Note that the present value is indexed at t = 40 because the first payment is at t = 41.) Next, discount the present value back to t = 15 (a total of 25 periods).\n",
    "\n",
    "3. Now compute the difference between the amount Grant has saved (Step 1) and the amount she needs to meet her retirement goals (Step 2). Her savings from t = 16 to t = 40 must have a present value equal to the difference between the future value of her savings and the present value of her retirement income.\n",
    "\n",
    "### Step 1:"
   ]
  },
  {
   "cell_type": "code",
   "execution_count": null,
   "metadata": {},
   "outputs": [],
   "source": [
    "fv_ord_ann(2000, 15, 0.08)"
   ]
  },
  {
   "cell_type": "markdown",
   "metadata": {},
   "source": [
    "### Step 2:"
   ]
  },
  {
   "cell_type": "code",
   "execution_count": null,
   "metadata": {},
   "outputs": [],
   "source": [
    "pv_ann(100000, 20, 0.08)"
   ]
  },
  {
   "cell_type": "code",
   "execution_count": null,
   "metadata": {},
   "outputs": [],
   "source": [
    "pv_scf(981814.74, 25, 0.08)"
   ]
  },
  {
   "cell_type": "markdown",
   "metadata": {},
   "source": [
    "### Step 3:"
   ]
  },
  {
   "cell_type": "code",
   "execution_count": null,
   "metadata": {},
   "outputs": [],
   "source": [
    "diff = 143362.53 - 54304.23\n",
    "\n",
    "diff"
   ]
  },
  {
   "cell_type": "code",
   "execution_count": null,
   "metadata": {},
   "outputs": [],
   "source": [
    "ann_pmt(89058.30, 25, 1, 0.08)"
   ]
  },
  {
   "cell_type": "markdown",
   "metadata": {},
   "source": [
    "### Or in one step:"
   ]
  },
  {
   "cell_type": "code",
   "execution_count": null,
   "metadata": {},
   "outputs": [],
   "source": [
    "ann_pmt((pv_scf(pv_ann(100000, 20, 0.08), 25, 0.08) - fv_ord_ann(2000, 15, 0.08)), 25, 1, 0.08)"
   ]
  },
  {
   "cell_type": "markdown",
   "metadata": {},
   "source": [
    "## The Cash Flow Additivity Principle\n",
    "\n",
    "The cash flow additivity principle—the idea that amounts of money indexed at the same point in time are additive."
   ]
  },
  {
   "cell_type": "markdown",
   "metadata": {},
   "source": [
    "## Net Present Value and the Internal Rate of Return\n",
    "\n",
    "**Capital budgeting** - The allocation of funds to relatively long-range projects or investments.  \n",
    "**Capital structure** - The mix of debt and equity that a company uses to finance its business; a company’s specific mixture of long-term financing.  \n",
    "**Working capital management** - The management of a company’s short-term assets (such as inventory) and short-term liabilities (such as money owed to suppliers).  \n",
    "\n",
    "### Net Present Value and the Net Present Value Rule\n",
    "**net present value** - (NPV) The present value of an investment’s cash inflows (benefits) minus the present value of its cash outflows (costs).  \n",
    "\n",
    "1. Identify all cash flows associated with the investment—all inflows and outflows.1\n",
    "\n",
    "2. Determine the appropriate discount rate or opportunity cost, r, for the investment project.2\n",
    "\n",
    "3. Using that discount rate, find the present value of each cash flow. (Inflows have a positive sign and increase NPV; outflows have a negative sign and decrease NPV.)\n",
    "\n",
    "4. Sum all present values. The sum of the present values of all cash flows (inflows and outflows) is the investment’s net present value.\n",
    "\n",
    "5. Apply the NPV rule: If the investment’s NPV is positive, an investor should undertake it; if the NPV is negative, the investor should not undertake it. If an investor has two candidates for investment but can only invest in one (i.e., mutually exclusive projects), the investor should choose the candidate with the higher positive NPV.\n",
    "\n",
    "\\begin{equation}\n",
    " NPV = \\sum_{t=0}^{N}\\frac{CF_t}{(1 + r)^t}\n",
    " \\end{equation}\n",
    "where\n",
    "\n",
    "CF_t = the expected net cash flow at time *t*  \n",
    "N = the investment's projected life  \n",
    "r = the discount rate or opportunity cost of capital\n",
    "\n",
    "In python\n",
    "```python\n",
    "def NPV(CF, N, r, t):\n",
    "    if isinstance(CF, np.ndarray):\n",
    "        NPV = np.vectorize(CF)(CF / (1 + r) ** t)\n",
    "    else:\n",
    "        NPV = CF / (1 + r) ** t\n",
    "    return NPV```\n",
    "        "
   ]
  },
  {
   "cell_type": "code",
   "execution_count": 85,
   "metadata": {},
   "outputs": [
    {
     "data": {
      "text/plain": [
       "0.08865514650638584"
      ]
     },
     "execution_count": 85,
     "metadata": {},
     "output_type": "execute_result"
    }
   ],
   "source": [
    "import pandas as pd\n",
    "\n",
    "def NPV(CF, r):\n",
    "    NPV = np.vectorize(pv_scf)(CF.iloc[:, 0], CF.index, r)\n",
    "    return NPV.sum()\n",
    "\n",
    "CF = pd.DataFrame(np.array([-2, .5, .75, 1.35]))\n",
    "\n",
    "NPV(CF, 0.1)"
   ]
  },
  {
   "cell_type": "code",
   "execution_count": null,
   "metadata": {},
   "outputs": [],
   "source": []
  }
 ],
 "metadata": {
  "kernelspec": {
   "display_name": "Python 3",
   "language": "python",
   "name": "python3"
  },
  "language_info": {
   "codemirror_mode": {
    "name": "ipython",
    "version": 3
   },
   "file_extension": ".py",
   "mimetype": "text/x-python",
   "name": "python",
   "nbconvert_exporter": "python",
   "pygments_lexer": "ipython3",
   "version": "3.7.0"
  }
 },
 "nbformat": 4,
 "nbformat_minor": 2
}
