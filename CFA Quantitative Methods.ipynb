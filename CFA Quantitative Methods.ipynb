{
 "cells": [
  {
   "cell_type": "markdown",
   "metadata": {},
   "source": [
    "# Interest rates\n",
    "\n",
    "## Interpretation:\n",
    "\n",
    "Interest rates can be thought of in three ways:  \n",
    "**required rates of return** - the minimum rate of return an investor must receive in order to accept the investment  \n",
    "**discount rates** - rate of return that reflects the relationship between differently dated cash flows  \n",
    "**opportunity cost** - value that investors forgo by choosing a particular course of action  \n",
    "\n",
    "r = Real risk-free interest rate + Inflation premium + Default risk premium + Liquidity premium + Maturity premium\n",
    "\n",
    "**real risk-free interest rate** - single-period interest rate for a completely risk-free security if no inflation were expected  \n",
    "**inflation premium** - An extra return that compensates investors for expected inflation.; reflects the average inflation rate expected over the maturity of the debt  \n",
    "**nominal risk-free interest rate** - sum of the real risk-free interest rate and the inflation premium  \n",
    "**default risk premium** - An extra return that compensates investors for the possibility that the borrower will fail to make a promised payment at the contracted time and in the contracted amount.  \n",
    "**liquidity premium** - An extra return that compensates investors for the risk of loss relative to an investment’s fair value if the investment needs to be converted to cash quickly.  \n",
    "**maturity premium** - An extra return that compensates investors for the increased sensitivity of the market value of debt to a change in market interest rates as maturity is extended.  "
   ]
  },
  {
   "cell_type": "markdown",
   "metadata": {},
   "source": [
    "# Time Value of Money\n",
    "\n",
    "## Future Value of a Single Cash Flow\n",
    "\n",
    "For N = 1, the expression for the future value of amount PV is  \n",
    "FV<sub>1</sub> = PV(1 + r)\n",
    "Where,  \n",
    "PV = present value of the investment  \n",
    "FV<sub>N</sub> = future value of the investment N periods from today  \n",
    "r = rate of interest per period\n",
    "\n",
    "Suppose you invest $\\$$100(PV = $\\$$100) in an interest-bearing bank account paying 5 percent annually.  \n",
    "\n",
    "\\begin{equation}\n",
    " FV_1 = $100(1.05) = $1.05\n",
    " \\end{equation}\n",
    " \n",
    "Generalized: \\begin{equation}FV_N = PV(1 + r)^N\\end{equation}\n",
    "So that, \\begin{equation}FV_2 = $100(1 + 0.05)^2 = $110.25\\end{equation}"
   ]
  },
  {
   "cell_type": "markdown",
   "metadata": {},
   "source": [
    "# Non-Annual Compounding(Future Value)\n",
    "## Frequency of compounding\n",
    "\n",
    "**stated annual interest rate** or **quoted interest rate** - A quoted interest rate that does not account for compounding within the year.  \n",
    "The stated annual interest rate equals the monthly interest rate multiplied by 12.  \n",
    "\n",
    "With more than one compounding period per year, the future value formula can be expressed as:  \n",
    "\n",
    "\\begin{equation}\n",
    " FV_N = PV\\left(1+ \\frac{r_s}{m}\\right)^{mN}\n",
    " \\end{equation}\n",
    "\n",
    "Or in python:\n",
    "\n",
    "```python\n",
    "def FV(PV, r_s, m, N):\n",
    "    return PV * (1 + (r_S / m)) ** (m * N)```"
   ]
  },
  {
   "cell_type": "code",
   "execution_count": 1,
   "metadata": {},
   "outputs": [
    {
     "data": {
      "text/plain": [
       "11716.593810022658"
      ]
     },
     "execution_count": 1,
     "metadata": {},
     "output_type": "execute_result"
    }
   ],
   "source": [
    "def FV(PV, r_s, m, N):\n",
    "    return PV * (1 + (r_s / m)) ** (m * N)\n",
    "\n",
    "FV(10000, 0.08, 4, 2)"
   ]
  },
  {
   "cell_type": "markdown",
   "metadata": {},
   "source": [
    "# Continuous Compounding\n",
    "\n",
    "Infinitely many compounding periods per year.\n",
    "\n",
    "\\begin{equation}\n",
    " FV_N = PVe^{r_sN}\n",
    " \\end{equation}\n",
    "\n",
    "Or in python:\n",
    "```python\n",
    "import numpy as np\n",
    "\n",
    "def cont_comp_FV(PV, r_s, N):\n",
    "    return PV * np.exp(r_s * N)```"
   ]
  },
  {
   "cell_type": "code",
   "execution_count": 2,
   "metadata": {},
   "outputs": [
    {
     "data": {
      "text/plain": [
       "11735.108709918102"
      ]
     },
     "execution_count": 2,
     "metadata": {},
     "output_type": "execute_result"
    }
   ],
   "source": [
    "import numpy as np\n",
    "\n",
    "def cont_comp_FV(PV, r_s, N):\n",
    "    return PV * np.exp(r_s * N)\n",
    "\n",
    "cont_comp_FV(10000, .08, 2)"
   ]
  },
  {
   "cell_type": "markdown",
   "metadata": {},
   "source": [
    "\n",
    "|Frequency     |r<sub>s</sub>/m       |mN            |               Future Value of \\$1          |\n",
    "|-------------:|:---------------------|:------------:|:------------------------------------------:|\n",
    "|Annual        | 8\\%/1 = 8\\%          | 1 x 1 = 1    | $$\\$1.00(1.08)=$$\\$1.08                    |\n",
    "|Semiannual    | 8\\%/2 = 4\\%          | 2 x 1 = 2    | $$\\$1.00(1.04)^2=$$\\$1.081600              |\n",
    "|Quarterly     | 8\\%/4 = 2\\%          | 4 x 1 = 4    | $$\\$1.00(1.02)^4=$$\\$1.082432              |\n",
    "|Monthly       | 8\\%/12 = 0.667\\%     | 12 x 1 = 12  | $$\\$1.00(1.006667)^{12}=$$\\$1.083000       |\n",
    "|Daily         | 8\\%/365 = 0.0219\\%   | 365 x 1 = 365| $$\\$1.00(1.000219)^{365}=$$\\$1.083278      |\n",
    "|Continuous    | <img>                | <img>        | $$\\$1.00e^{0.08(1)}=$$\\$1.083287           |\n"
   ]
  },
  {
   "cell_type": "markdown",
   "metadata": {},
   "source": [
    "effective annual rate - The amount by which a unit of currency will grow in a year with interest on interest included.\n",
    "\n",
    "\\begin{equation}\n",
    " EAR = (1 +\\ Periodic\\ Interest\\ Rate)^m-1\n",
    " \\end{equation}\n",
    " \n",
    "or\n",
    "\\begin{equation}\n",
    " EAR = \\left(1 + \\frac{r_s}{m}\\right)^m-1\n",
    " \\end{equation}\n",
    " \n",
    " Or in python\n",
    " ```python\n",
    "def EAR(r_s, m):\n",
    "    return (1 + r_s / m) ** m - 1```"
   ]
  },
  {
   "cell_type": "code",
   "execution_count": 3,
   "metadata": {},
   "outputs": [
    {
     "data": {
      "text/plain": [
       "0.08160000000000012"
      ]
     },
     "execution_count": 3,
     "metadata": {},
     "output_type": "execute_result"
    }
   ],
   "source": [
    "def EAR(r_s, m):\n",
    "    return (1 + r_s / m) ** m - 1\n",
    "\n",
    "EAR(0.08, 2)"
   ]
  },
  {
   "cell_type": "markdown",
   "metadata": {},
   "source": [
    "## EAR with Continuous Compounding\n",
    "\n",
    "\\begin{equation}\n",
    " EAR = e^{r_s} - 1\n",
    " \\end{equation}\n",
    "\n",
    "Or in python\n",
    "\n",
    "```python\n",
    "def cont_ear(r_s):\n",
    "    return np.exp(r_s) - 1```"
   ]
  },
  {
   "cell_type": "code",
   "execution_count": 4,
   "metadata": {},
   "outputs": [
    {
     "data": {
      "text/plain": [
       "0.08328706767495864"
      ]
     },
     "execution_count": 4,
     "metadata": {},
     "output_type": "execute_result"
    }
   ],
   "source": [
    "def cont_ear(r_s):\n",
    "    return np.exp(r_s) - 1\n",
    "\n",
    "cont_ear(.08)"
   ]
  },
  {
   "cell_type": "markdown",
   "metadata": {},
   "source": [
    "Reversing the process and solving for r_s:\n",
    "\n",
    "\\begin{equation}\n",
    " EAR = e^{r_s} - 1\n",
    " \\end{equation}\n",
    " \n",
    "\\begin{equation}\n",
    " EAR + 1 = e^{r_s}\n",
    " \\end{equation}\n",
    "\n",
    "\\begin{equation}\n",
    " ln(EAR + 1) = lne^{r_s} = r_s\n",
    " \\end{equation}\n",
    "\n",
    "In python:\n",
    "\n",
    "```python\n",
    "def rs_from_cont_ear(EAR):\n",
    "    return np.log(EAR + 1)```\n"
   ]
  },
  {
   "cell_type": "code",
   "execution_count": 5,
   "metadata": {},
   "outputs": [
    {
     "data": {
      "text/plain": [
       "0.07999993752813746"
      ]
     },
     "execution_count": 5,
     "metadata": {},
     "output_type": "execute_result"
    }
   ],
   "source": [
    "def rs_from_cont_ear(EAR):\n",
    "    return np.log(EAR + 1)\n",
    "\n",
    "rs_from_cont_ear(0.083287)"
   ]
  },
  {
   "cell_type": "markdown",
   "metadata": {},
   "source": [
    "# Future Value of a Series of Cash Flows\n",
    "\n",
    "annuity - A finite set of level sequential cash flows.  \n",
    "ordinary annuity - An annuity with a first cash flow that is paid one period from the present.  \n",
    "annuity due - An annuity having a first cash flow that is paid immediately.  \n",
    "perpetuity - A perpetual annuity, or a set of never-ending level sequential cash flows, with the first cash flow occurring one period from now. A bond that does not mature.  \n",
    "\n",
    "## Equal Cash Flows—Ordinary Annuity:\n",
    "\n",
    "\\begin{equation}\n",
    " FV_N = A \\left[(1+r)^{N−1} + (1+r)^{N−2} + (1+r)^{N−3} + … + (1+r)^1 + (1+r)^0 \\right]\n",
    " \\end{equation}\n",
    "\n",
    "Which simplifies to:\n",
    "\n",
    "\\begin{equation}\n",
    " FV_N = A \\left[\\frac{(1+r)^{N}−1}{r} \\right]\n",
    " \\end{equation}\n",
    "\n",
    "In python:\n",
    "```python\n",
    "def fv_ord_ann(A, N, r):\n",
    "    return A * ((1 + r) ** N - 1) / r```\n",
    "\n",
    "Future Value Annutity Factor - the factor by which we multiply the amount of an annuity to arrive at the future value.  \n",
    "\n",
    "\\begin{equation}\n",
    " \\left[\\frac{(1+r)^{N}−1}{r} \\right]\n",
    " \\end{equation}\n",
    "\n",
    "In python:\n",
    "```python\n",
    "def fvaf(N, r):\n",
    "    return ((1 + r) ** N - 1) / r```"
   ]
  },
  {
   "cell_type": "code",
   "execution_count": 6,
   "metadata": {},
   "outputs": [
    {
     "data": {
      "text/plain": [
       "5525.631250000007"
      ]
     },
     "execution_count": 6,
     "metadata": {},
     "output_type": "execute_result"
    }
   ],
   "source": [
    "def fv_ord_ann(A, N, r):\n",
    "    return A * ((1 + r) ** N - 1) / r\n",
    "\n",
    "fv_ord_ann(1000, 5, 0.05)"
   ]
  },
  {
   "cell_type": "code",
   "execution_count": 7,
   "metadata": {},
   "outputs": [
    {
     "data": {
      "text/plain": [
       "5.525631250000007"
      ]
     },
     "execution_count": 7,
     "metadata": {},
     "output_type": "execute_result"
    }
   ],
   "source": [
    "def fvaf(N, r):\n",
    "    return ((1 + r) ** N - 1) / r\n",
    "\n",
    "fvaf(5, 0.05)"
   ]
  },
  {
   "cell_type": "markdown",
   "metadata": {},
   "source": [
    "## Unequal Cash Flows\n",
    "\n",
    "In many cases, cash flow streams are unequal, precluding the simple use of the future value annuity factor. One can always find the future value of a series of unequal cash flows by compounding the cash flows one at a time.  \n",
    "\n",
    "|Time\t|Cash Flow ($)\t|Future Value at Year 5            |\n",
    "|------:|:-------------:|---------------------------------:|\n",
    "| t = 1\t| \\$1,000\t    | $$\\$1,000(1.05)^4 = $$\\$1,215.51 |\n",
    "| t = 2\t| \\$2,000\t    | $$\\$2,000(1.05)^3 = $$\\$2,315.25 |\n",
    "| t = 3\t| \\$4,000\t    | $$\\$4,000(1.05)^2 = $$\\$4,410.00 |\n",
    "| t = 4\t| \\$5,000\t    | $$\\$5,000(1.05)^1 = $$\\$5,250.00 |\n",
    "| t = 5\t| \\$6,000\t    | $$\\$6,000(1.05)^0 = $$\\$6,000.00 |\n",
    "| <img> | <img>         |                Sum = \\$19,190.76 |\n",
    "\n",
    "We can solve this in python by utilizing numpy and pandas to create a dataframe with a series for the cashflows and a series for N that is equal to time t (or the index of the cashflow) minus the maximum element of series t, then applying a single cash flow fv function\n",
    "\n",
    "\\begin{equation}FV_N = PV(1 + r)^N\\end{equation}\n",
    "\n",
    "over each cash flow and summing the result.  We'll do this using the previously defined FV function.\n",
    "\n",
    "```python\n",
    "df = pd.DataFrame(np.array([0, 1000, 2000, 4000, 5000, 6000]))\n",
    "\n",
    "df['t'] = df.index\n",
    "\n",
    "df['N'] = df['t'] - df['t'].max()\n",
    "\n",
    "def fv_ucf(df, r, m):\n",
    "    return np.vectorize(FV)(df.iloc[:, 0], r, m, df['N'])```"
   ]
  },
  {
   "cell_type": "code",
   "execution_count": 8,
   "metadata": {},
   "outputs": [
    {
     "data": {
      "text/plain": [
       "19190.75625"
      ]
     },
     "execution_count": 8,
     "metadata": {},
     "output_type": "execute_result"
    }
   ],
   "source": [
    "import pandas as pd\n",
    "import numpy as np\n",
    "\n",
    "cf = pd.DataFrame(np.array([0, 1000, 2000, 4000, 5000, 6000]))\n",
    "\n",
    "cf['t'] = cf.index\n",
    "\n",
    "cf['N'] = cf['t'].max() - cf['t']\n",
    "\n",
    "def fv_ucf(df, r, m):\n",
    "    return np.vectorize(FV)(df.iloc[:, 0], r, m, df['N']).sum()\n",
    "\n",
    "fv_ucf(cf, 0.05, 1)"
   ]
  },
  {
   "cell_type": "markdown",
   "metadata": {},
   "source": [
    "## Finding the Present Value of a Single Cash Flow\n",
    "\n",
    "Given a future cash flow that is to be received in N periods and an interest rate per period of r, we can use the formula for future value to solve directly for the present value as follows:  \n",
    "\n",
    "\\begin{equation}\n",
    " FV_N = PV(1 + r)^{N}\n",
    " \\end{equation}\n",
    "\n",
    "\\begin{equation}\n",
    " PV = FV_N\\left[\\frac{1}{(1 + r)^{N}}\\right]\n",
    " \\end{equation}\n",
    "\n",
    "\\begin{equation}\n",
    " PV = FV_N(1 + r)^{-N}\n",
    " \\end{equation}\n",
    "\n",
    "In python:\n",
    "\n",
    "```python\n",
    "def pv_scf(FV, N, r):\n",
    "    return FV * (1 + r) ** -N```"
   ]
  },
  {
   "cell_type": "code",
   "execution_count": 9,
   "metadata": {},
   "outputs": [
    {
     "data": {
      "text/plain": [
       "63016.96268831045"
      ]
     },
     "execution_count": 9,
     "metadata": {},
     "output_type": "execute_result"
    }
   ],
   "source": [
    "def pv_scf(FV, N, r):\n",
    "    return FV * (1 + r) ** -N\n",
    "\n",
    "pv_scf(100000, 6, 0.08)"
   ]
  },
  {
   "cell_type": "markdown",
   "metadata": {},
   "source": [
    "## The Frequency of Compounding\n",
    "\n",
    "\\begin{equation}\n",
    " PV = FV_N\\left(1 + \\frac{r_s}{m}\\right)^{-mN}\n",
    " \\end{equation}\n",
    "\n",
    "## The Present Value of a Series of Equal Cash Flows\n",
    "\n",
    "\\begin{equation}\n",
    " PV = \\frac{A}{(1 + r)} + \\frac{A}{(1 + r)^2} + \\frac{A}{(1 + r)^3} + ... + \\frac{A}{(1 + r)^{N-1}} + \\frac{A}{(1 + r)^N}\n",
    " \\end{equation}\n",
    "where\n",
    "\n",
    "A = the annuity amount\n",
    "\n",
    "r = the interest rate per period corresponding to the frequency of annuity payments (for example, annual, quarterly, or monthly)\n",
    "\n",
    "N = the number of annuity payments\n",
    "\n",
    "Which can be simplified to\n",
    "\n",
    "\\begin{equation}\n",
    " PV = A\\left[\\frac{1-\\frac{1}{(1 + r)N}}{r}\\right]\n",
    " \\end{equation}\n",
    "\n",
    "In python:\n",
    "\n",
    "```python\n",
    "def pv_ann(A, N, r):\n",
    "    return A * ((1 - (1 / (1 + r) ** N)) / r)```"
   ]
  },
  {
   "cell_type": "code",
   "execution_count": 10,
   "metadata": {},
   "outputs": [
    {
     "data": {
      "text/plain": [
       "3604.776202345007"
      ]
     },
     "execution_count": 10,
     "metadata": {},
     "output_type": "execute_result"
    }
   ],
   "source": [
    "def pv_ann(A, N, r):\n",
    "    return A * ((1 - (1 / (1 + r) ** N)) / r)\n",
    "\n",
    "pv_ann(1000, 5, 0.12)"
   ]
  },
  {
   "cell_type": "markdown",
   "metadata": {},
   "source": [
    "## Annuity Due\n",
    "\n",
    "An annuity due has its first payment occurring today (t = 0). In total, the annuity due will make N payments.\n",
    "\n",
    "\\begin{equation}\n",
    " PV = A + \\frac{A}{(1 + r)} + \\frac{A}{(1 + r)^2} + \\frac{A}{(1 + r)^3} + ... + \\frac{A}{(1 + r)^{N-1}}\n",
    " \\end{equation}\n",
    "\n",
    "\\begin{equation}\n",
    " PV = A \\left[\\frac{1 - \\frac{1}{(1 + r)^N}}{r}\\right]\n",
    " \\end{equation}\n",
    "\n",
    "In python:\n",
    "\n",
    "```python\n",
    "def pv_ann_due(A, N, r):\n",
    "    return A + (A * ((1 - (1 / (1 + r) ** (N-1))) / r))```"
   ]
  },
  {
   "cell_type": "code",
   "execution_count": 11,
   "metadata": {},
   "outputs": [
    {
     "data": {
      "text/plain": [
       "2267119.048540459"
      ]
     },
     "execution_count": 11,
     "metadata": {},
     "output_type": "execute_result"
    }
   ],
   "source": [
    "def pv_ann_due(A, N, r):\n",
    "    return A + (A * ((1 - (1 / (1 + r) ** (N-1))) / r))\n",
    "\n",
    "pv_ann_due(200000, 20, 0.07)"
   ]
  },
  {
   "cell_type": "markdown",
   "metadata": {},
   "source": [
    "## The Projected Present Value of an Ordinary Annuity\n",
    "\n",
    "A German pension fund manager anticipates that benefits of €1 million per year must be paid to retirees. Retirements will not occur until 10 years from now at time t = 10. Once benefits begin to be paid, they will extend until t = 39 for a total of 30 payments. What is the present value of the pension liability if the appropriate annual discount rate for plan liabilities is 5 percent compounded annually?\n",
    "\n",
    "From t=9 this is an annuity with N=30. Then we can set the PV from the annuity to the FV for a standard PV equation with N=9. "
   ]
  },
  {
   "cell_type": "code",
   "execution_count": 12,
   "metadata": {},
   "outputs": [
    {
     "data": {
      "text/plain": [
       "15372451.026882842"
      ]
     },
     "execution_count": 12,
     "metadata": {},
     "output_type": "execute_result"
    }
   ],
   "source": [
    "# Calculate the annuity at t=9.\n",
    "pv_ann(1000000, 30, 0.05)"
   ]
  },
  {
   "cell_type": "code",
   "execution_count": 13,
   "metadata": {},
   "outputs": [
    {
     "data": {
      "text/plain": [
       "9909218.998059459"
      ]
     },
     "execution_count": 13,
     "metadata": {},
     "output_type": "execute_result"
    }
   ],
   "source": [
    "# Then calculate the PV for a lump sum with N=9.\n",
    "pv_scf(15372451.03, 9, 0.05)"
   ]
  },
  {
   "cell_type": "markdown",
   "metadata": {},
   "source": [
    "## The Present Value of a Series of Unequal Cash Flows\n",
    "\n",
    "When we have unequal cash flows, we must first find the present value of each individual cash flow and then sum the respective present values.\n",
    "\n",
    "|Time Period    |Cash Flow (\\$)  | Present Value at Year 0       |\n",
    "|:-------------:|:-------------:|:------------------------------|\n",
    "| 1\t            | 1,000         | $$\\$1,000(1.05) − 1 = $$\\$952.38    |\n",
    "| 2\t            | 2,000         | $$\\$2,000(1.05) − 2 = $$\\$1,814.06  |\n",
    "| 3\t            | 4,000         | $$\\$4,000(1.05) − 3 = $$\\$3,455.35  |\n",
    "| 4\t            | 5,000         | $$\\$5,000(1.05) − 4 = $$\\$4,113.51  |\n",
    "| 5\t            | 6,000         | $$\\$6,000(1.05) − 5 = $$\\$4,701.16  |\n",
    "| <img>         | <img>         |               Sum = $$\\$15,036.46|\n",
    "\n",
    "We can accomplish this in python using pandas and numpy by creating a pandas dataframe from a numpy array containing the cashflows, remembering to add a \\$0.00 cf as the first element of the array to represent time t=0. Then we simply define a function that uses np.vectorize to apply the pv_scf function we defined earlier to each cf, creating a new column of present values to the dataframe that we then sum and return as the PV of the cashflows.  \n",
    "\n",
    "```python\n",
    "df = pd.DataFrame(np.array([cf0, cf1, cf2,..., cfn]))\n",
    "\n",
    "def pv_ucf(df, r):\n",
    "    df['PV'] = np.vectorize(pv_scf)(df.iloc[:, 0], df.index, r)\n",
    "    return df['PV'].sum()```"
   ]
  },
  {
   "cell_type": "code",
   "execution_count": 14,
   "metadata": {},
   "outputs": [
    {
     "data": {
      "text/plain": [
       "15036.459676193119"
      ]
     },
     "execution_count": 14,
     "metadata": {},
     "output_type": "execute_result"
    }
   ],
   "source": [
    "ex_cf = pd.DataFrame(np.array([0, 1000, 2000, 4000, 5000, 6000]))\n",
    "\n",
    "def pv_ucf(df, r):\n",
    "    df['PV'] = np.vectorize(pv_scf)(df.iloc[:, 0], df.index, r)\n",
    "    return df['PV'].sum()\n",
    "    \n",
    "pv_ucf(ex_cf, 0.05)"
   ]
  },
  {
   "cell_type": "code",
   "execution_count": 15,
   "metadata": {},
   "outputs": [
    {
     "data": {
      "text/html": [
       "<div>\n",
       "<style scoped>\n",
       "    .dataframe tbody tr th:only-of-type {\n",
       "        vertical-align: middle;\n",
       "    }\n",
       "\n",
       "    .dataframe tbody tr th {\n",
       "        vertical-align: top;\n",
       "    }\n",
       "\n",
       "    .dataframe thead th {\n",
       "        text-align: right;\n",
       "    }\n",
       "</style>\n",
       "<table border=\"1\" class=\"dataframe\">\n",
       "  <thead>\n",
       "    <tr style=\"text-align: right;\">\n",
       "      <th></th>\n",
       "      <th>0</th>\n",
       "      <th>PV</th>\n",
       "    </tr>\n",
       "  </thead>\n",
       "  <tbody>\n",
       "    <tr>\n",
       "      <th>0</th>\n",
       "      <td>0</td>\n",
       "      <td>0.000000</td>\n",
       "    </tr>\n",
       "    <tr>\n",
       "      <th>1</th>\n",
       "      <td>1000</td>\n",
       "      <td>952.380952</td>\n",
       "    </tr>\n",
       "    <tr>\n",
       "      <th>2</th>\n",
       "      <td>2000</td>\n",
       "      <td>1814.058957</td>\n",
       "    </tr>\n",
       "    <tr>\n",
       "      <th>3</th>\n",
       "      <td>4000</td>\n",
       "      <td>3455.350394</td>\n",
       "    </tr>\n",
       "    <tr>\n",
       "      <th>4</th>\n",
       "      <td>5000</td>\n",
       "      <td>4113.512374</td>\n",
       "    </tr>\n",
       "    <tr>\n",
       "      <th>5</th>\n",
       "      <td>6000</td>\n",
       "      <td>4701.156999</td>\n",
       "    </tr>\n",
       "  </tbody>\n",
       "</table>\n",
       "</div>"
      ],
      "text/plain": [
       "      0           PV\n",
       "0     0     0.000000\n",
       "1  1000   952.380952\n",
       "2  2000  1814.058957\n",
       "3  4000  3455.350394\n",
       "4  5000  4113.512374\n",
       "5  6000  4701.156999"
      ]
     },
     "execution_count": 15,
     "metadata": {},
     "output_type": "execute_result"
    }
   ],
   "source": [
    "ex_cf"
   ]
  },
  {
   "cell_type": "markdown",
   "metadata": {},
   "source": [
    "## The Present Value of an Infinite Series of Equal Cash Flows—Perpetuity\n",
    "\n",
    "\\begin{equation}\n",
    " PV = A\\sum_{t=1}^{\\infty}\\left[\\frac{1}{(1 + r)^t}\\right]\n",
    " \\end{equation}\n",
    "\n",
    "As long as interest rates are positive, the sum of present value factors converges and\n",
    "\n",
    "\\begin{equation}\n",
    " PV = \\frac{A}{r}\n",
    " \\end{equation}\n",
    "\n",
    "In python\n",
    "```python\n",
    "def pv_per(A, r):\n",
    "    return A / r```\n"
   ]
  },
  {
   "cell_type": "code",
   "execution_count": 16,
   "metadata": {},
   "outputs": [
    {
     "data": {
      "text/plain": [
       "2000.0"
      ]
     },
     "execution_count": 16,
     "metadata": {},
     "output_type": "execute_result"
    }
   ],
   "source": [
    "def pv_per(A, r):\n",
    "    return A / r\n",
    "\n",
    "pv_per(100, 0.05)"
   ]
  },
  {
   "cell_type": "markdown",
   "metadata": {},
   "source": [
    "## Present Values Indexed at Times Other than t = 0"
   ]
  },
  {
   "cell_type": "markdown",
   "metadata": {},
   "source": [
    "In practice with investments, analysts frequently need to find present values indexed at times other than t = 0. Subscripting the present value and evaluating a perpetuity beginning with 100 payments in Year 2, we find PV<sub>1</sub> =  100 / 0.05 = 2,000 at a 5 percent discount rate. Further, we can calculate today’s PV as PV<sub>0</sub> = 2,000 / 1.05 = 1,904.76."
   ]
  },
  {
   "cell_type": "markdown",
   "metadata": {},
   "source": [
    "In python we can define a function that accepts an amount, rate, and time t at which the perpetuity will begin producing cashflows. The pv_per will then be discounted from time t-1 back to t=0 utilizing our previously defined pv_scf function.\n",
    "```python\n",
    "def pv_per_at_t(A, r, t):\n",
    "    return pv_scf(pv_per(A, r), t, r)```"
   ]
  },
  {
   "cell_type": "code",
   "execution_count": 17,
   "metadata": {},
   "outputs": [
    {
     "data": {
      "text/plain": [
       "1645.4049495837637"
      ]
     },
     "execution_count": 17,
     "metadata": {},
     "output_type": "execute_result"
    }
   ],
   "source": [
    "def pv_per_at_t(A, r, t):\n",
    "    return pv_scf(pv_per(A, r), t-1, r)\n",
    "\n",
    "pv_per_at_t(100, 0.05, 5)"
   ]
  },
  {
   "cell_type": "markdown",
   "metadata": {},
   "source": [
    "## Solving for Interest Rates and Growth Rates\n",
    "\n",
    "\\begin{equation}\n",
    " r = \\left(\\frac{FV_N}{PV}\\right)^{\\frac{1}{N}} – 1\n",
    " \\end{equation}\n",
    "\n",
    "\\begin{equation}\n",
    " g = \\left(\\frac{FV_N}{PV}\\right)^{\\frac{1}{N}} – 1\n",
    " \\end{equation}\n",
    "\n",
    "```python\n",
    "def g_rate(PV, FV_N, N):\n",
    "    return (FV_N / PV) ** (1 / N) -1```"
   ]
  },
  {
   "cell_type": "code",
   "execution_count": 18,
   "metadata": {},
   "outputs": [
    {
     "name": "stdout",
     "output_type": "stream",
     "text": [
      "0.07729127402544611 -0.008029319034508764\n"
     ]
    }
   ],
   "source": [
    "def g_rate(PV, FV_N, N):\n",
    "    return (FV_N / PV) ** (1 / N) -1\n",
    "\n",
    "sales_g = g_rate(10503, 14146.4, 4)\n",
    "\n",
    "profit_g = g_rate(822.5, 796.4, 4)\n",
    "\n",
    "print(sales_g, profit_g)"
   ]
  },
  {
   "cell_type": "markdown",
   "metadata": {},
   "source": [
    "## Solving for the Number of Periods\n",
    "\n",
    "\\begin{equation}\n",
    " FV_N = PV(1 + r)^N\n",
    " \\end{equation}\n",
    "\n",
    "\\begin{equation}\n",
    " \\frac{FV_N}{PV} = (1 + r)^N\n",
    " \\end{equation}\n",
    "\n",
    "\\begin{equation}\n",
    " ln\\left(\\frac{FV_N}{PV}\\right) = Nln(1 + r)\n",
    " \\end{equation}\n",
    "\n",
    "\\begin{equation}\n",
    " \\frac{ln\\left(\\frac{FV_N}{PV}\\right)}{ln(1 + r)} = N\n",
    " \\end{equation}"
   ]
  },
  {
   "cell_type": "code",
   "execution_count": 19,
   "metadata": {},
   "outputs": [
    {
     "data": {
      "text/plain": [
       "10.244768351058712"
      ]
     },
     "execution_count": 19,
     "metadata": {},
     "output_type": "execute_result"
    }
   ],
   "source": [
    "def n_periods(FV, PV, r):\n",
    "    return np.log(FV / PV) / np.log(1 + r)\n",
    "\n",
    "n_periods(20000000, 10000000, 0.07)"
   ]
  },
  {
   "cell_type": "markdown",
   "metadata": {},
   "source": [
    "## Calculating the Size of Payments on a Fixed-Rate Mortgage\n",
    "\n",
    "\\begin{equation}\n",
    " A = \\frac{PV}{\\left[\\frac{1 - \\frac{1}{(1 + r)^N}}{r}\\right]}\n",
    " \\end{equation}"
   ]
  },
  {
   "cell_type": "code",
   "execution_count": 20,
   "metadata": {},
   "outputs": [
    {
     "data": {
      "text/plain": [
       "8882.743338727227"
      ]
     },
     "execution_count": 20,
     "metadata": {},
     "output_type": "execute_result"
    }
   ],
   "source": [
    "def pvaf(r, N, m):\n",
    "    return (1 - (1 / (1 + (r / m)) ** (m * N))) / (r / m)\n",
    "\n",
    "def pmt(PV, r, N, m):\n",
    "    return PV / pvaf(r, N, m=1)\n",
    "\n",
    "pmt(100000, 0.08, 30, 12)"
   ]
  },
  {
   "cell_type": "markdown",
   "metadata": {},
   "source": [
    "## The Projected Annuity Amount Needed to Fund a Future-Annuity Inflow\n",
    "\n",
    "Jill Grant is 22 years old (at t = 0) and is planning for her retirement at age 63 (at t = 41). She plans to save 2,000 per year for the next 15 years (t = 1 to t = 15). She wants to have retirement income of 100,000 per year for 20 years, with the first retirement payment starting at t = 41. How much must Grant save each year from t = 16 to t = 40 in order to achieve her retirement goal? Assume she plans to invest in a diversified stock-and-bond mutual fund that will earn 8 percent per year on average.\n",
    "\n",
    "This problem involves three series of level cash flows. The basic idea is that the present value of the retirement income must equal the present value of Grant’s savings. Our strategy requires the following steps:\n",
    "\n",
    "1. Find the future value of the savings of $2,000 per year and index it at t = 15. This value tells us how much Grant will have saved.\n",
    "\n",
    "\n",
    "2. Find the present value of the retirement income at t = 15. This value tells us how much Grant needs to meet her retirement goals (as of t = 15). Two substeps are necessary. First, calculate the present value of the annuity of $100,000 per year at t = 40. Use the formula for the present value of an annuity. (Note that the present value is indexed at t = 40 because the first payment is at t = 41.) Next, discount the present value back to t = 15 (a total of 25 periods).\n",
    "\n",
    "\n",
    "3. Now compute the difference between the amount Grant has saved (Step 1) and the amount she needs to meet her retirement goals (Step 2). Her savings from t = 16 to t = 40 must have a present value equal to the difference between the future value of her savings and the present value of her retirement income.\n",
    "\n",
    "Step 1:\n",
    "\n",
    "A = \\$2,000  \n",
    "r = 8\\% = 0.08  \n",
    "N = 15  \n",
    "\\begin{equation}\n",
    " FV = A \\left[\\frac{(1 + r)^N - 1}{r}\\right]\n",
    " \\end{equation}\n",
    "\n",
    "\\begin{equation}\n",
    " = 2000 \\left[\\frac{(1.08)^15 - 1}{0.08}\\right]\n",
    " \\end{equation}\n",
    "\n",
    "\\begin{equation}\n",
    " = 2000(27.152114)\n",
    " \\end{equation}\n",
    "\n",
    "\\begin{equation}\n",
    " = 54304.23\n",
    " \\end{equation}\n",
    "\n",
    "At t = 15, Grant’s initial savings will have grown to $54,304.23.\n",
    "\n",
    "Step 2:\n",
    "\n",
    "A = 100000  \n",
    "r = 8\\% = 0.08  \n",
    "N = 20  \n",
    "\n",
    "\\begin{equation}\n",
    " PV = A\\left[\\frac{1 - \\frac{1}{(1 + r)^N}}{r}\\right]\n",
    " \\end{equation}\n",
    "\n",
    "\\begin{equation}\n",
    " PV = 100000\\left[\\frac{1 - \\frac{1}{(1 + 0.08)^20}}{0.08}\\right]\n",
    " \\end{equation}\n",
    "\n",
    "\\begin{equation}\n",
    " = 100000(9.818147)\n",
    " \\end{equation}\n",
    "\n",
    "\\begin{equation}\n",
    " = $981,814.74\n",
    " \\end{equation}\n",
    "\n",
    "The present value amount is as of t = 40, so we must now discount it back as a lump sum to t = 15:  \n",
    "\n",
    "FV<sub>N</sub> = \\$981,814.74  \n",
    "N = 25  \n",
    "r = 8\\% = 0.08\n",
    "\n",
    "\\begin{equation}\n",
    " PV = FV_N(1 + r)^{-N}\n",
    " \\end{equation}\n",
    "\n",
    "\\begin{equation}\n",
    " = 981814.74(1.08)^{-25}\n",
    " \\end{equation}\n",
    "\n",
    "\\begin{equation}\n",
    " = 981814.74(0.146018)\n",
    " \\end{equation}\n",
    "\n",
    "\\begin{equation}\n",
    " = $143,362.53\n",
    " \\end{equation}\n",
    "\n",
    "Step 3:\n",
    "\n",
    "$ PV = \\$143,362.53 - \\$54,304.23 = \\$89,058.30 $  \n",
    "$ r = 8\\% = 0.08 $  \n",
    "$ N = 25 $  \n",
    "\n",
    "\\begin{equation}\n",
    " Present\\ Value\\ Annuity\\ Factor\\ (PVAF) = \\left[\\frac{(1 + r)^N - 1}{r}\\right]\n",
    " \\end{equation}\n",
    "\n",
    "\\begin{equation}\n",
    " = \\left[\\frac{(1 + 0.08)^25 - 1}{0.08}\\right]\n",
    " \\end{equation}\n",
    "\n",
    "\\begin{equation}\n",
    " = 10.674776\n",
    " \\end{equation}\n",
    " \n",
    "\\begin{equation}\n",
    " A = \\frac{PV}{PVAF}\n",
    " \\end{equation}\n",
    "\n",
    "\\begin{equation}\n",
    " A = \\frac{\\$89,058.30}{10.674776}\n",
    " \\end{equation}\n",
    "\n",
    "\\begin{equation}\n",
    " A = \\$8,342.87\n",
    " \\end{equation}\n",
    "\n",
    "Grant will need to increase her savings to 8,342.87 per year from t = 16 to t = 40 to meet her retirement goal of having a fund equal to 981,814.74 after making her last payment at t = 40.\n",
    "\n",
    "In python"
   ]
  },
  {
   "cell_type": "code",
   "execution_count": 21,
   "metadata": {},
   "outputs": [
    {
     "data": {
      "text/plain": [
       "54304.2278549568"
      ]
     },
     "execution_count": 21,
     "metadata": {},
     "output_type": "execute_result"
    }
   ],
   "source": [
    "#Step 1\n",
    "\n",
    "fv_ord_ann(2000, 15, 0.08)"
   ]
  },
  {
   "cell_type": "code",
   "execution_count": 22,
   "metadata": {},
   "outputs": [
    {
     "data": {
      "text/plain": [
       "981814.7407449294"
      ]
     },
     "execution_count": 22,
     "metadata": {},
     "output_type": "execute_result"
    }
   ],
   "source": [
    "#Step 2\n",
    "\n",
    "pv_ann(100000, 20, 0.08)"
   ]
  },
  {
   "cell_type": "code",
   "execution_count": 23,
   "metadata": {},
   "outputs": [
    {
     "data": {
      "text/plain": [
       "143362.53134741684"
      ]
     },
     "execution_count": 23,
     "metadata": {},
     "output_type": "execute_result"
    }
   ],
   "source": [
    "pv_scf(981814.74, 25, 0.08)"
   ]
  },
  {
   "cell_type": "code",
   "execution_count": 24,
   "metadata": {},
   "outputs": [
    {
     "data": {
      "text/plain": [
       "10.674776188588583"
      ]
     },
     "execution_count": 24,
     "metadata": {},
     "output_type": "execute_result"
    }
   ],
   "source": [
    "#Step 3\n",
    "\n",
    "pv = 143362.53 - 54304.23\n",
    "\n",
    "def pvaf(r, N, m=1):\n",
    "    return (1 - (1 / (1 + (r / m)) ** (m * N))) / (r / m)\n",
    "\n",
    "pvaf(0.08, 25)"
   ]
  },
  {
   "cell_type": "code",
   "execution_count": 25,
   "metadata": {},
   "outputs": [
    {
     "data": {
      "text/plain": [
       "8342.87280844389"
      ]
     },
     "execution_count": 25,
     "metadata": {},
     "output_type": "execute_result"
    }
   ],
   "source": [
    "pv / pvaf(0.08, 25)"
   ]
  },
  {
   "cell_type": "markdown",
   "metadata": {},
   "source": [
    "Or in a single step"
   ]
  },
  {
   "cell_type": "code",
   "execution_count": 26,
   "metadata": {},
   "outputs": [
    {
     "data": {
      "text/plain": [
       "8342.873145803007"
      ]
     },
     "execution_count": 26,
     "metadata": {},
     "output_type": "execute_result"
    }
   ],
   "source": [
    "pmt(pv_scf(pv_ann(100000, 20, 0.08), 25, 0.08) - fv_ord_ann(2000, 15, 0.08) , 0.08, 25, 1)"
   ]
  },
  {
   "cell_type": "markdown",
   "metadata": {},
   "source": [
    "## Discounted Cash Flow Applications\n",
    "\n",
    "**Capital budgeting** - The allocation of funds to relatively long-range projects or investments.  \n",
    "**Capital structure** - The mix of debt and equity that a company uses to finance its business; a company’s specific mixture of long-term financing.  \n",
    "**Working capital management** - The management of a company’s short-term assets (such as inventory) and short-term liabilities (such as money owed to suppliers).\n",
    "\n",
    "### Net Present Value and the Net Present Value Rule\n",
    "\n",
    "**net present value** - (NPV) The present value of an investment’s cash inflows (benefits) minus the present value of its cash outflows (costs).\n",
    "\n",
    "The steps in computing NPV and applying the NPV rule are as follows:\n",
    "\n",
    "1. Identify all cash flows associated with the investment—all inflows and outflows.1\n",
    "\n",
    "2. Determine the appropriate discount rate or opportunity cost, r, for the investment project.2\n",
    "\n",
    "3. Using that discount rate, find the present value of each cash flow. (Inflows have a positive sign and increase NPV; outflows have a negative sign and decrease NPV.)\n",
    "\n",
    "4. Sum all present values. The sum of the present values of all cash flows (inflows and outflows) is the investment’s net present value.\n",
    "\n",
    "5. Apply the NPV rule: If the investment’s NPV is positive, an investor should undertake it; if the NPV is negative, the investor should not undertake it. If an investor has two candidates for investment but can only invest in one (i.e., mutually exclusive projects), the investor should choose the candidate with the higher positive NPV.\n",
    "\n",
    "NPV formula:\n",
    "\\begin{equation}\n",
    " NPV = \\sum^{N}_{t=0}\\frac{CF_t}{(1 + r)^t}\n",
    " \\end{equation}\n",
    "\n",
    "where  \n",
    "CF<sub>t</sub> = the expected net cashflow at time t  \n",
    "N = the investment's projected life  \n",
    "r = the discount rate or opportunity cost of capital\n",
    "\n",
    "### The Internal Rate of Return (IRR), IRR Rule, and Problems wiht the IRR Rule\n",
    "\n",
    "**internal rate of return** - (IRR) The discount rate that makes net present value equal 0; the discount rate that makes the present value of an investment’s costs (outflows) equal to the present value of the investment’s benefits (inflows).\n",
    "\n",
    "\\begin{equation}\n",
    " NPV = CF_0 + \\frac{CF_1}{(1 + IRR)^1} + \\frac{CF_2}{(1 + IRR)^2} + ... + \\frac{CF_N}{(1 + IRR)^N}\n",
    " \\end{equation}\n",
    "\n",
    "\\begin{equation}\n",
    " Investment = \\frac{CF_1}{(1 + IRR)^1} + \\frac{CF_2}{(1 + IRR)^2} + ... + \\frac{CF_N}{(1 + IRR)^N}\n",
    " \\end{equation}\n",
    "\n",
    "**IRR rule** - An investment decision rule that accepts projects or investments for which the IRR is greater than the opportunity cost of capital.  \n",
    "**hurdle rate** - The rate of return that must be met for a project to be accepted.\n",
    "\n",
    "### Problems with the IRR Rule\n",
    "\n",
    "The IRR and NPV rules rank projects differently when:\n",
    "* the size or scale of the projects differs (measuring size by the investment needed to undertake the project), or\n",
    "\n",
    "* the timing of the projects’ cash flows differs.\n",
    "\n",
    "When the IRR and NPV rules conflict in ranking projects, we should take directions from the NPV rule. Why that preference? The NPV of an investment represents the expected addition to shareholder wealth from an investment, and we take the maximization of shareholder wealth to be a basic financial objective of a company. "
   ]
  },
  {
   "cell_type": "code",
   "execution_count": 28,
   "metadata": {},
   "outputs": [
    {
     "data": {
      "text/plain": [
       "0.14501173466464756"
      ]
     },
     "execution_count": 28,
     "metadata": {},
     "output_type": "execute_result"
    }
   ],
   "source": [
    "# IRR in python\n",
    "\n",
    "cf = np.array([-1000, 294.8, 294.8, 294.8, 294.8, 294.8])\n",
    "\n",
    "np.irr(cf)"
   ]
  },
  {
   "cell_type": "markdown",
   "metadata": {},
   "source": [
    "## Portfolio Return Measurement\n",
    "\n",
    "**performance measurement** - The calculation of returns in a logical and consistent manner.  \n",
    "**performance appraisal** - The evaluation of risk-adjusted performance; the evaluation of investment skill.  \n",
    "**holding period return (HPR)** - The return that an investor earns during a specified holding period; a synonym for total return. $HPR = (P_1 - P_0 + D_1) / P_0$, where $P_0$ is the initial investment, $P_1$ is the price received at the end of the holding period, and $D_1$ is the cash paid by the investment during the holding period.  \n",
    "\n",
    "### Money-Weighted Rate of Return\n",
    "\n",
    "In investment management applications, the internal rate of return is called the money-weighted rate of return because it accounts for the timing and amount of all cash flows into and out of the portfolio.\n",
    "\n",
    "To illustrate the money-weighted return, consider an investment that covers a two-year horizon. At time t = 0, an investor buys one share at 200. At time t = 1, he purchases an additional share at 225. At the end of Year 2, t = 2, he sells both shares for 235 each. During both years, the stock pays a per-share dividend of 5. The t = 1 dividend is not reinvested."
   ]
  },
  {
   "cell_type": "code",
   "execution_count": 30,
   "metadata": {},
   "outputs": [
    {
     "data": {
      "text/plain": [
       "0.09392822227735964"
      ]
     },
     "execution_count": 30,
     "metadata": {},
     "output_type": "execute_result"
    }
   ],
   "source": [
    "cf = np.array([-200, -220, 480])\n",
    "\n",
    "np.irr(cf)"
   ]
  },
  {
   "cell_type": "markdown",
   "metadata": {},
   "source": [
    "### Time-Weighted Rate of Return\n",
    "\n",
    "**time-weighted rate of return** - The compound rate of growth of one unit of currency invested in a portfolio during a stated measurement period; a measure of investment performance that is not sensitive to the timing and amount of withdrawals or additions to the portfolio.\n",
    "\n",
    "To compute an exact time-weighted rate of return on a portfolio, take the following three steps:\n",
    "1. Price the portfolio immediately prior to any significant addition or withdrawal of funds. Break the overall evaluation period into subperiods based on the dates of cash inflows and outflows.\n",
    "\n",
    "2. Calculate the holding period return on the portfolio for each subperiod.\n",
    "\n",
    "3. Link or compound holding period returns to obtain an annual rate of return for the year (the time-weighted rate of return for the year). If the investment is for more than one year, take the geometric mean of the annual returns to obtain the time-weighted rate of return over that measurement period.\n",
    "\n"
   ]
  },
  {
   "cell_type": "markdown",
   "metadata": {},
   "source": [
    "$ HPR_1 = 6.67\\% $  \n",
    "$ HPR_2 = 15\\% $  \n",
    "$ (1 + Time\\ Weighted\\ Return)^2 = (1 + HPR_1)(1 + HPR_2) $  \n",
    "$ (1 + TWR)^2 = (1.15)(1.0667) $  \n",
    "$ TWR = \\sqrt{(1.15)(1.0667)} - 1 = 10.76\\% $de\n",
    "\n",
    "In python"
   ]
  },
  {
   "cell_type": "code",
   "execution_count": 123,
   "metadata": {},
   "outputs": [],
   "source": [
    "def twr_from_r(r):\n",
    "    '''Accepts array of holding period returns and returns the time weighted return'''\n",
    "    df = pd.DataFrame(r)\n",
    "    df['N'] = df.index\n",
    "    df['r'] = df[0]\n",
    "    df['1+r'] = df['r'] + 1\n",
    "    N = df['N'].max().astype(float)\n",
    "    return df['1+r'].product() ** (1/N) - 1"
   ]
  },
  {
   "cell_type": "code",
   "execution_count": 124,
   "metadata": {},
   "outputs": [
    {
     "data": {
      "text/plain": [
       "0.10756715372026093"
      ]
     },
     "execution_count": 124,
     "metadata": {},
     "output_type": "execute_result"
    }
   ],
   "source": [
    "df = pd.DataFrame(np.array([0, 0.15, 0.0667]))\n",
    "\n",
    "twr_from_r(df)"
   ]
  },
  {
   "cell_type": "markdown",
   "metadata": {},
   "source": [
    "Define a function to compute the time-weighted return from a dataframe containing beginning values, inflows/outflows, and ending values over an arbitrary number of periods. \n",
    "\n"
   ]
  },
  {
   "cell_type": "code",
   "execution_count": null,
   "metadata": {},
   "outputs": [],
   "source": []
  }
 ],
 "metadata": {
  "kernelspec": {
   "display_name": "Python 3",
   "language": "python",
   "name": "python3"
  },
  "language_info": {
   "codemirror_mode": {
    "name": "ipython",
    "version": 3
   },
   "file_extension": ".py",
   "mimetype": "text/x-python",
   "name": "python",
   "nbconvert_exporter": "python",
   "pygments_lexer": "ipython3",
   "version": "3.7.0"
  }
 },
 "nbformat": 4,
 "nbformat_minor": 2
}
