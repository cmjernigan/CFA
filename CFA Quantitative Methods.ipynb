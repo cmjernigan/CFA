{
 "cells": [
  {
   "cell_type": "markdown",
   "metadata": {},
   "source": [
    "# Interest rates\n",
    "\n",
    "## Interpretation:\n",
    "\n",
    "Interest rates can be thought of in three ways:  \n",
    "**required rates of return** - the minimum rate of return an investor must receive in order to accept the investment  \n",
    "**discount rates** - rate of return that reflects the relationship between differently dated cash flows  \n",
    "**opportunity cost** - value that investors forgo by choosing a particular course of action  \n",
    "\n",
    "r = Real risk-free interest rate + Inflation premium + Default risk premium + Liquidity premium + Maturity premium\n",
    "\n",
    "**real risk-free interest rate** - single-period interest rate for a completely risk-free security if no inflation were expected  \n",
    "**inflation premium** - An extra return that compensates investors for expected inflation.; reflects the average inflation rate expected over the maturity of the debt  \n",
    "**nominal risk-free interest rate** - sum of the real risk-free interest rate and the inflation premium  \n",
    "**default risk premium** - An extra return that compensates investors for the possibility that the borrower will fail to make a promised payment at the contracted time and in the contracted amount.  \n",
    "**liquidity premium** - An extra return that compensates investors for the risk of loss relative to an investment’s fair value if the investment needs to be converted to cash quickly.  \n",
    "**maturity premium** - An extra return that compensates investors for the increased sensitivity of the market value of debt to a change in market interest rates as maturity is extended.  "
   ]
  },
  {
   "cell_type": "markdown",
   "metadata": {},
   "source": [
    "# Time Value of Money\n",
    "\n",
    "## Future Value of a Single Cash Flow\n",
    "\n",
    "For N = 1, the expression for the future value of amount PV is  \n",
    "FV<sub>1</sub> = PV(1 + r)\n",
    "Where,  \n",
    "PV = present value of the investment  \n",
    "FV<sub>N</sub> = future value of the investment N periods from today  \n",
    "r = rate of interest per period\n",
    "\n",
    "Suppose you invest $\\$$100(PV = $\\$$100) in an interest-bearing bank account paying 5 percent annually.  \n",
    "\n",
    "FV<sub>1</sub> = $\\$$100(1.05) = $\\$$105\n",
    "\n",
    "Generalized: FV<sub>N</sub> = PV(1 + r)<sup>N</sup>  \n",
    "So that, FV<sub>2</sub> = $\\$$100(1 + 0.05)<sup>2</sup> = $\\$$110.25"
   ]
  },
  {
   "cell_type": "markdown",
   "metadata": {},
   "source": [
    "# Non-Annual Compounding(Future Value)\n",
    "## Frequency of compounding\n",
    "\n",
    "**stated annual interest rate** or **quoted interest rate** - A quoted interest rate that does not account for compounding within the year.  \n",
    "The stated annual interest rate equals the monthly interest rate multiplied by 12.  \n",
    "\n",
    "With more than one compounding period per year, the future value formula can be expressed as:  \n",
    "\n",
    "\\begin{equation}\n",
    " FV_N = PV\\left(1+ \\frac{r_s}{m}\\right)^{mN}\n",
    " \\end{equation}\n",
    "\n",
    "Or in python:\n",
    "\n",
    "```python\n",
    "def FV(PV, r_s, m, N):\n",
    "    return PV * (1 + (r_S / m)) ** (m * N)```"
   ]
  },
  {
   "cell_type": "code",
   "execution_count": 4,
   "metadata": {},
   "outputs": [
    {
     "data": {
      "text/plain": [
       "11716.593810022658"
      ]
     },
     "execution_count": 4,
     "metadata": {},
     "output_type": "execute_result"
    }
   ],
   "source": [
    "def FV(PV, r_s, m, N):\n",
    "    return PV * (1 + (r_s / m)) ** (m * N)\n",
    "\n",
    "FV(10000, 0.08, 4, 2)"
   ]
  },
  {
   "cell_type": "markdown",
   "metadata": {},
   "source": [
    "# Continuous Compounding\n",
    "\n",
    "Infinitely many compounding periods per year.\n",
    "\n",
    "\\begin{equation}\n",
    " FV_N = PVe^{r_sN}\n",
    " \\end{equation}\n",
    "\n",
    "Or in python:\n",
    "```python\n",
    "import numpy as np\n",
    "\n",
    "def cont_comp_FV(PV, r_s, N):\n",
    "    return PV * np.exp(r_s * N)```"
   ]
  },
  {
   "cell_type": "code",
   "execution_count": 5,
   "metadata": {},
   "outputs": [
    {
     "data": {
      "text/plain": [
       "11735.108709918102"
      ]
     },
     "execution_count": 5,
     "metadata": {},
     "output_type": "execute_result"
    }
   ],
   "source": [
    "import numpy as np\n",
    "\n",
    "def cont_comp_FV(PV, r_s, N):\n",
    "    return PV * np.exp(r_s * N)\n",
    "\n",
    "cont_comp_FV(10000, .08, 2)"
   ]
  },
  {
   "cell_type": "markdown",
   "metadata": {},
   "source": [
    "\n",
    "|Frequency     |r<sub>s</sub>/m       |mN            |               Future Value of \\$1          |\n",
    "|-------------:|:---------------------|:------------:|:------------------------------------------:|\n",
    "|Annual        | 8\\%/1 = 8\\%          | 1 x 1 = 1    | $$\\$1.00(1.08)=$$\\$1.08                    |\n",
    "|Semiannual    | 8\\%/2 = 4\\%          | 2 x 1 = 2    | $$\\$1.00(1.04)^2=$$\\$1.081600              |\n",
    "|Quarterly     | 8\\%/4 = 2\\%          | 4 x 1 = 4    | $$\\$1.00(1.02)^4=$$\\$1.082432              |\n",
    "|Monthly       | 8\\%/12 = 0.667\\%     | 12 x 1 = 12  | $$\\$1.00(1.006667)^{12}=$$\\$1.083000       |\n",
    "|Daily         | 8\\%/365 = 0.0219\\%   | 365 x 1 = 365| $$\\$1.00(1.000219)^{365}=$$\\$1.083278      |\n",
    "|Continuous    | <img>                | <img>        | $$\\$1.00e^{0.08(1)}=$$\\$1.083287           |\n"
   ]
  },
  {
   "cell_type": "markdown",
   "metadata": {},
   "source": [
    "effective annual rate - The amount by which a unit of currency will grow in a year with interest on interest included.\n",
    "\n",
    "\\begin{equation}\n",
    " EAR = (1 +\\ Periodic\\ Interest\\ Rate)^m-1\n",
    " \\end{equation}\n",
    " \n",
    "or\n",
    "\\begin{equation}\n",
    " EAR = \\left(1 + \\frac{r_s}{m}\\right)^m-1\n",
    " \\end{equation}\n",
    " \n",
    " Or in python\n",
    " ```python\n",
    "def EAR(r_s, m):\n",
    "    return (1 + r_s / m) ** m - 1```"
   ]
  },
  {
   "cell_type": "code",
   "execution_count": 12,
   "metadata": {},
   "outputs": [
    {
     "data": {
      "text/plain": [
       "0.08160000000000012"
      ]
     },
     "execution_count": 12,
     "metadata": {},
     "output_type": "execute_result"
    }
   ],
   "source": [
    "def EAR(r_s, m):\n",
    "    return (1 + r_s / m) ** m - 1\n",
    "\n",
    "EAR(0.08, 2)"
   ]
  },
  {
   "cell_type": "markdown",
   "metadata": {},
   "source": [
    "## EAR with Continuous Compounding\n",
    "\n",
    "\\begin{equation}\n",
    " EAR = e^{r_s} - 1\n",
    " \\end{equation}\n",
    "\n",
    "Or in python\n",
    "\n",
    "```python\n",
    "def cont_EAR(r_s):\n",
    "    return np.exp(r_s) - 1```"
   ]
  },
  {
   "cell_type": "code",
   "execution_count": 13,
   "metadata": {},
   "outputs": [
    {
     "data": {
      "text/plain": [
       "0.08328706767495864"
      ]
     },
     "execution_count": 13,
     "metadata": {},
     "output_type": "execute_result"
    }
   ],
   "source": [
    "def cont_EAR(r_s):\n",
    "    return np.exp(r_s) - 1\n",
    "\n",
    "cont_EAR(.08)"
   ]
  },
  {
   "cell_type": "code",
   "execution_count": null,
   "metadata": {},
   "outputs": [],
   "source": []
  }
 ],
 "metadata": {
  "kernelspec": {
   "display_name": "Python 3",
   "language": "python",
   "name": "python3"
  },
  "language_info": {
   "codemirror_mode": {
    "name": "ipython",
    "version": 3
   },
   "file_extension": ".py",
   "mimetype": "text/x-python",
   "name": "python",
   "nbconvert_exporter": "python",
   "pygments_lexer": "ipython3",
   "version": "3.7.0"
  }
 },
 "nbformat": 4,
 "nbformat_minor": 2
}
